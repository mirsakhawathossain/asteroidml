{
  "nbformat": 4,
  "nbformat_minor": 0,
  "metadata": {
    "kernelspec": {
      "display_name": "Python 3.7 (py37)",
      "language": "python",
      "name": "py37"
    },
    "language_info": {
      "codemirror_mode": {
        "name": "ipython",
        "version": 3
      },
      "file_extension": ".py",
      "mimetype": "text/x-python",
      "name": "python",
      "nbconvert_exporter": "python",
      "pygments_lexer": "ipython3",
      "version": "3.7.4"
    },
    "colab": {
      "name": "Asteroid_Scikit.ipynb",
      "provenance": []
    }
  },
  "cells": [
    {
      "cell_type": "code",
      "metadata": {
        "id": "uwSWyEGdT-7A"
      },
      "source": [
        "#https://towardsdatascience.com/categorical-encoding-using-label-encoding-and-one-hot-encoder-911ef77fb5bd\n",
        "#https://www.kaggle.com/ldfreeman3/a-data-science-framework-to-achieve-99-accuracy\n",
        "#https://www.kaggle.com/leonardolima/titanic-competition-notebook-0-80-top-10"
      ],
      "execution_count": null,
      "outputs": []
    },
    {
      "cell_type": "code",
      "metadata": {
        "colab": {
          "base_uri": "https://localhost:8080/"
        },
        "id": "1CpXaswHT-7A",
        "outputId": "34b1d941-0458-4f3d-e3cc-3fd6ec9a3e57"
      },
      "source": [
        "!git clone https://gitlab.com/mirsakhawathossain/pha-ml.git"
      ],
      "execution_count": null,
      "outputs": [
        {
          "output_type": "stream",
          "text": [
            "fatal: destination path 'pha-ml' already exists and is not an empty directory.\n"
          ],
          "name": "stdout"
        }
      ]
    },
    {
      "cell_type": "code",
      "metadata": {
        "colab": {
          "base_uri": "https://localhost:8080/"
        },
        "id": "kxoIB3yNT-7B",
        "outputId": "0ceed0d6-f098-4c86-ee34-9cc76d44611b"
      },
      "source": [
        "!cd pha-ml\n",
        "!ls"
      ],
      "execution_count": null,
      "outputs": [
        {
          "output_type": "stream",
          "text": [
            "pha-ml\tsample_data\n"
          ],
          "name": "stdout"
        }
      ]
    },
    {
      "cell_type": "code",
      "metadata": {
        "id": "6vduEk-lT-7C"
      },
      "source": [
        "import pandas as pd"
      ],
      "execution_count": null,
      "outputs": []
    },
    {
      "cell_type": "code",
      "metadata": {
        "colab": {
          "base_uri": "https://localhost:8080/"
        },
        "id": "APZ0UMsnT-7D",
        "outputId": "702f4330-fdba-4af5-8b83-58a9e34de469"
      },
      "source": [
        "asteroid_data = pd.read_csv('pha-ml/Dataset/dataset.csv',index_col=['spkid']).sort_index(axis=0)"
      ],
      "execution_count": null,
      "outputs": [
        {
          "output_type": "stream",
          "text": [
            "/usr/local/lib/python3.6/dist-packages/IPython/core/interactiveshell.py:2718: DtypeWarning: Columns (3,4,5) have mixed types.Specify dtype option on import or set low_memory=False.\n",
            "  interactivity=interactivity, compiler=compiler, result=result)\n"
          ],
          "name": "stderr"
        }
      ]
    },
    {
      "cell_type": "code",
      "metadata": {
        "colab": {
          "base_uri": "https://localhost:8080/",
          "height": 258
        },
        "id": "XYWnvhfqT-7D",
        "outputId": "cb011736-6fc3-4b60-93f9-8e39bc9c8504"
      },
      "source": [
        "asteroid_data.head(5)"
      ],
      "execution_count": null,
      "outputs": [
        {
          "output_type": "execute_result",
          "data": {
            "text/html": [
              "<div>\n",
              "<style scoped>\n",
              "    .dataframe tbody tr th:only-of-type {\n",
              "        vertical-align: middle;\n",
              "    }\n",
              "\n",
              "    .dataframe tbody tr th {\n",
              "        vertical-align: top;\n",
              "    }\n",
              "\n",
              "    .dataframe thead th {\n",
              "        text-align: right;\n",
              "    }\n",
              "</style>\n",
              "<table border=\"1\" class=\"dataframe\">\n",
              "  <thead>\n",
              "    <tr style=\"text-align: right;\">\n",
              "      <th></th>\n",
              "      <th>id</th>\n",
              "      <th>full_name</th>\n",
              "      <th>pdes</th>\n",
              "      <th>name</th>\n",
              "      <th>prefix</th>\n",
              "      <th>neo</th>\n",
              "      <th>pha</th>\n",
              "      <th>H</th>\n",
              "      <th>diameter</th>\n",
              "      <th>albedo</th>\n",
              "      <th>diameter_sigma</th>\n",
              "      <th>orbit_id</th>\n",
              "      <th>epoch</th>\n",
              "      <th>epoch_mjd</th>\n",
              "      <th>epoch_cal</th>\n",
              "      <th>equinox</th>\n",
              "      <th>e</th>\n",
              "      <th>a</th>\n",
              "      <th>q</th>\n",
              "      <th>i</th>\n",
              "      <th>om</th>\n",
              "      <th>w</th>\n",
              "      <th>ma</th>\n",
              "      <th>ad</th>\n",
              "      <th>n</th>\n",
              "      <th>tp</th>\n",
              "      <th>tp_cal</th>\n",
              "      <th>per</th>\n",
              "      <th>per_y</th>\n",
              "      <th>moid</th>\n",
              "      <th>moid_ld</th>\n",
              "      <th>sigma_e</th>\n",
              "      <th>sigma_a</th>\n",
              "      <th>sigma_q</th>\n",
              "      <th>sigma_i</th>\n",
              "      <th>sigma_om</th>\n",
              "      <th>sigma_w</th>\n",
              "      <th>sigma_ma</th>\n",
              "      <th>sigma_ad</th>\n",
              "      <th>sigma_n</th>\n",
              "      <th>sigma_tp</th>\n",
              "      <th>sigma_per</th>\n",
              "      <th>class</th>\n",
              "      <th>rms</th>\n",
              "    </tr>\n",
              "    <tr>\n",
              "      <th>spkid</th>\n",
              "      <th></th>\n",
              "      <th></th>\n",
              "      <th></th>\n",
              "      <th></th>\n",
              "      <th></th>\n",
              "      <th></th>\n",
              "      <th></th>\n",
              "      <th></th>\n",
              "      <th></th>\n",
              "      <th></th>\n",
              "      <th></th>\n",
              "      <th></th>\n",
              "      <th></th>\n",
              "      <th></th>\n",
              "      <th></th>\n",
              "      <th></th>\n",
              "      <th></th>\n",
              "      <th></th>\n",
              "      <th></th>\n",
              "      <th></th>\n",
              "      <th></th>\n",
              "      <th></th>\n",
              "      <th></th>\n",
              "      <th></th>\n",
              "      <th></th>\n",
              "      <th></th>\n",
              "      <th></th>\n",
              "      <th></th>\n",
              "      <th></th>\n",
              "      <th></th>\n",
              "      <th></th>\n",
              "      <th></th>\n",
              "      <th></th>\n",
              "      <th></th>\n",
              "      <th></th>\n",
              "      <th></th>\n",
              "      <th></th>\n",
              "      <th></th>\n",
              "      <th></th>\n",
              "      <th></th>\n",
              "      <th></th>\n",
              "      <th></th>\n",
              "      <th></th>\n",
              "      <th></th>\n",
              "    </tr>\n",
              "  </thead>\n",
              "  <tbody>\n",
              "    <tr>\n",
              "      <th>2000001</th>\n",
              "      <td>a0000001</td>\n",
              "      <td>1 Ceres</td>\n",
              "      <td>1</td>\n",
              "      <td>Ceres</td>\n",
              "      <td>NaN</td>\n",
              "      <td>N</td>\n",
              "      <td>N</td>\n",
              "      <td>3.40</td>\n",
              "      <td>939.400</td>\n",
              "      <td>0.0900</td>\n",
              "      <td>0.200</td>\n",
              "      <td>JPL 47</td>\n",
              "      <td>2458600.5</td>\n",
              "      <td>58600</td>\n",
              "      <td>20190427.0</td>\n",
              "      <td>J2000</td>\n",
              "      <td>0.076009</td>\n",
              "      <td>2.769165</td>\n",
              "      <td>2.558684</td>\n",
              "      <td>10.594067</td>\n",
              "      <td>80.305531</td>\n",
              "      <td>73.597695</td>\n",
              "      <td>77.372098</td>\n",
              "      <td>2.979647</td>\n",
              "      <td>0.213885</td>\n",
              "      <td>2.458239e+06</td>\n",
              "      <td>2.018043e+07</td>\n",
              "      <td>1683.145703</td>\n",
              "      <td>4.608202</td>\n",
              "      <td>1.59478</td>\n",
              "      <td>620.640533</td>\n",
              "      <td>4.819000e-12</td>\n",
              "      <td>1.032800e-11</td>\n",
              "      <td>1.956900e-11</td>\n",
              "      <td>4.608900e-09</td>\n",
              "      <td>6.168800e-08</td>\n",
              "      <td>6.624800e-08</td>\n",
              "      <td>7.820700e-09</td>\n",
              "      <td>1.111300e-11</td>\n",
              "      <td>1.196500e-12</td>\n",
              "      <td>3.782900e-08</td>\n",
              "      <td>9.415900e-09</td>\n",
              "      <td>MBA</td>\n",
              "      <td>0.43301</td>\n",
              "    </tr>\n",
              "    <tr>\n",
              "      <th>2000002</th>\n",
              "      <td>a0000002</td>\n",
              "      <td>2 Pallas</td>\n",
              "      <td>2</td>\n",
              "      <td>Pallas</td>\n",
              "      <td>NaN</td>\n",
              "      <td>N</td>\n",
              "      <td>N</td>\n",
              "      <td>4.20</td>\n",
              "      <td>545.000</td>\n",
              "      <td>0.1010</td>\n",
              "      <td>18.000</td>\n",
              "      <td>JPL 37</td>\n",
              "      <td>2459000.5</td>\n",
              "      <td>59000</td>\n",
              "      <td>20200531.0</td>\n",
              "      <td>J2000</td>\n",
              "      <td>0.229972</td>\n",
              "      <td>2.773841</td>\n",
              "      <td>2.135935</td>\n",
              "      <td>34.832932</td>\n",
              "      <td>173.024741</td>\n",
              "      <td>310.202392</td>\n",
              "      <td>144.975675</td>\n",
              "      <td>3.411748</td>\n",
              "      <td>0.213345</td>\n",
              "      <td>2.458321e+06</td>\n",
              "      <td>2.018072e+07</td>\n",
              "      <td>1687.410992</td>\n",
              "      <td>4.619880</td>\n",
              "      <td>1.23429</td>\n",
              "      <td>480.348639</td>\n",
              "      <td>3.193400e-08</td>\n",
              "      <td>4.033700e-09</td>\n",
              "      <td>8.832200e-08</td>\n",
              "      <td>3.469400e-06</td>\n",
              "      <td>6.272400e-06</td>\n",
              "      <td>9.128200e-06</td>\n",
              "      <td>8.859100e-06</td>\n",
              "      <td>4.961300e-09</td>\n",
              "      <td>4.653600e-10</td>\n",
              "      <td>4.078700e-05</td>\n",
              "      <td>3.680700e-06</td>\n",
              "      <td>MBA</td>\n",
              "      <td>0.35936</td>\n",
              "    </tr>\n",
              "    <tr>\n",
              "      <th>2000003</th>\n",
              "      <td>a0000003</td>\n",
              "      <td>3 Juno</td>\n",
              "      <td>3</td>\n",
              "      <td>Juno</td>\n",
              "      <td>NaN</td>\n",
              "      <td>N</td>\n",
              "      <td>N</td>\n",
              "      <td>5.33</td>\n",
              "      <td>246.596</td>\n",
              "      <td>0.2140</td>\n",
              "      <td>10.594</td>\n",
              "      <td>JPL 112</td>\n",
              "      <td>2459000.5</td>\n",
              "      <td>59000</td>\n",
              "      <td>20200531.0</td>\n",
              "      <td>J2000</td>\n",
              "      <td>0.256936</td>\n",
              "      <td>2.668285</td>\n",
              "      <td>1.982706</td>\n",
              "      <td>12.991043</td>\n",
              "      <td>169.851482</td>\n",
              "      <td>248.066193</td>\n",
              "      <td>125.435355</td>\n",
              "      <td>3.353865</td>\n",
              "      <td>0.226129</td>\n",
              "      <td>2.458446e+06</td>\n",
              "      <td>2.018112e+07</td>\n",
              "      <td>1592.013769</td>\n",
              "      <td>4.358696</td>\n",
              "      <td>1.03429</td>\n",
              "      <td>402.514639</td>\n",
              "      <td>3.052000e-08</td>\n",
              "      <td>3.471800e-09</td>\n",
              "      <td>8.139200e-08</td>\n",
              "      <td>3.223100e-06</td>\n",
              "      <td>1.664600e-05</td>\n",
              "      <td>1.772100e-05</td>\n",
              "      <td>8.110400e-06</td>\n",
              "      <td>4.363900e-09</td>\n",
              "      <td>4.413400e-10</td>\n",
              "      <td>3.528800e-05</td>\n",
              "      <td>3.107200e-06</td>\n",
              "      <td>MBA</td>\n",
              "      <td>0.33848</td>\n",
              "    </tr>\n",
              "    <tr>\n",
              "      <th>2000004</th>\n",
              "      <td>a0000004</td>\n",
              "      <td>4 Vesta</td>\n",
              "      <td>4</td>\n",
              "      <td>Vesta</td>\n",
              "      <td>NaN</td>\n",
              "      <td>N</td>\n",
              "      <td>N</td>\n",
              "      <td>3.00</td>\n",
              "      <td>525.400</td>\n",
              "      <td>0.4228</td>\n",
              "      <td>0.200</td>\n",
              "      <td>JPL 35</td>\n",
              "      <td>2458600.5</td>\n",
              "      <td>58600</td>\n",
              "      <td>20190427.0</td>\n",
              "      <td>J2000</td>\n",
              "      <td>0.088721</td>\n",
              "      <td>2.361418</td>\n",
              "      <td>2.151909</td>\n",
              "      <td>7.141771</td>\n",
              "      <td>103.810804</td>\n",
              "      <td>150.728541</td>\n",
              "      <td>95.861938</td>\n",
              "      <td>2.570926</td>\n",
              "      <td>0.271609</td>\n",
              "      <td>2.458248e+06</td>\n",
              "      <td>2.018051e+07</td>\n",
              "      <td>1325.432763</td>\n",
              "      <td>3.628837</td>\n",
              "      <td>1.13948</td>\n",
              "      <td>443.451432</td>\n",
              "      <td>2.332100e-10</td>\n",
              "      <td>1.514300e-09</td>\n",
              "      <td>1.928600e-09</td>\n",
              "      <td>2.170600e-07</td>\n",
              "      <td>3.880800e-07</td>\n",
              "      <td>1.789300e-07</td>\n",
              "      <td>1.206800e-06</td>\n",
              "      <td>1.648600e-09</td>\n",
              "      <td>2.612500e-10</td>\n",
              "      <td>4.103700e-06</td>\n",
              "      <td>1.274900e-06</td>\n",
              "      <td>MBA</td>\n",
              "      <td>0.39980</td>\n",
              "    </tr>\n",
              "    <tr>\n",
              "      <th>2000005</th>\n",
              "      <td>a0000005</td>\n",
              "      <td>5 Astraea</td>\n",
              "      <td>5</td>\n",
              "      <td>Astraea</td>\n",
              "      <td>NaN</td>\n",
              "      <td>N</td>\n",
              "      <td>N</td>\n",
              "      <td>6.90</td>\n",
              "      <td>106.699</td>\n",
              "      <td>0.2740</td>\n",
              "      <td>3.140</td>\n",
              "      <td>JPL 114</td>\n",
              "      <td>2459000.5</td>\n",
              "      <td>59000</td>\n",
              "      <td>20200531.0</td>\n",
              "      <td>J2000</td>\n",
              "      <td>0.190913</td>\n",
              "      <td>2.574037</td>\n",
              "      <td>2.082619</td>\n",
              "      <td>5.367427</td>\n",
              "      <td>141.571026</td>\n",
              "      <td>358.648418</td>\n",
              "      <td>17.846343</td>\n",
              "      <td>3.065455</td>\n",
              "      <td>0.238661</td>\n",
              "      <td>2.458926e+06</td>\n",
              "      <td>2.020032e+07</td>\n",
              "      <td>1508.414421</td>\n",
              "      <td>4.129814</td>\n",
              "      <td>1.09575</td>\n",
              "      <td>426.433028</td>\n",
              "      <td>2.373700e-08</td>\n",
              "      <td>3.970900e-09</td>\n",
              "      <td>6.092400e-08</td>\n",
              "      <td>2.740800e-06</td>\n",
              "      <td>2.894900e-05</td>\n",
              "      <td>2.984200e-05</td>\n",
              "      <td>8.303800e-06</td>\n",
              "      <td>4.729000e-09</td>\n",
              "      <td>5.522700e-10</td>\n",
              "      <td>3.474300e-05</td>\n",
              "      <td>3.490500e-06</td>\n",
              "      <td>MBA</td>\n",
              "      <td>0.52191</td>\n",
              "    </tr>\n",
              "  </tbody>\n",
              "</table>\n",
              "</div>"
            ],
            "text/plain": [
              "               id       full_name pdes  ...     sigma_per class      rms\n",
              "spkid                                   ...                             \n",
              "2000001  a0000001         1 Ceres    1  ...  9.415900e-09   MBA  0.43301\n",
              "2000002  a0000002        2 Pallas    2  ...  3.680700e-06   MBA  0.35936\n",
              "2000003  a0000003          3 Juno    3  ...  3.107200e-06   MBA  0.33848\n",
              "2000004  a0000004         4 Vesta    4  ...  1.274900e-06   MBA  0.39980\n",
              "2000005  a0000005       5 Astraea    5  ...  3.490500e-06   MBA  0.52191\n",
              "\n",
              "[5 rows x 44 columns]"
            ]
          },
          "metadata": {
            "tags": []
          },
          "execution_count": 19
        }
      ]
    },
    {
      "cell_type": "code",
      "metadata": {
        "colab": {
          "base_uri": "https://localhost:8080/",
          "height": 344
        },
        "id": "ZldZg8LlT-7D",
        "outputId": "ccfb896e-2be9-43b9-d534-482bfa2350c8"
      },
      "source": [
        "asteroid_data.tail(5)"
      ],
      "execution_count": null,
      "outputs": [
        {
          "output_type": "execute_result",
          "data": {
            "text/html": [
              "<div>\n",
              "<style scoped>\n",
              "    .dataframe tbody tr th:only-of-type {\n",
              "        vertical-align: middle;\n",
              "    }\n",
              "\n",
              "    .dataframe tbody tr th {\n",
              "        vertical-align: top;\n",
              "    }\n",
              "\n",
              "    .dataframe thead th {\n",
              "        text-align: right;\n",
              "    }\n",
              "</style>\n",
              "<table border=\"1\" class=\"dataframe\">\n",
              "  <thead>\n",
              "    <tr style=\"text-align: right;\">\n",
              "      <th></th>\n",
              "      <th>id</th>\n",
              "      <th>full_name</th>\n",
              "      <th>pdes</th>\n",
              "      <th>name</th>\n",
              "      <th>prefix</th>\n",
              "      <th>neo</th>\n",
              "      <th>pha</th>\n",
              "      <th>H</th>\n",
              "      <th>diameter</th>\n",
              "      <th>albedo</th>\n",
              "      <th>diameter_sigma</th>\n",
              "      <th>orbit_id</th>\n",
              "      <th>epoch</th>\n",
              "      <th>epoch_mjd</th>\n",
              "      <th>epoch_cal</th>\n",
              "      <th>equinox</th>\n",
              "      <th>e</th>\n",
              "      <th>a</th>\n",
              "      <th>q</th>\n",
              "      <th>i</th>\n",
              "      <th>om</th>\n",
              "      <th>w</th>\n",
              "      <th>ma</th>\n",
              "      <th>ad</th>\n",
              "      <th>n</th>\n",
              "      <th>tp</th>\n",
              "      <th>tp_cal</th>\n",
              "      <th>per</th>\n",
              "      <th>per_y</th>\n",
              "      <th>moid</th>\n",
              "      <th>moid_ld</th>\n",
              "      <th>sigma_e</th>\n",
              "      <th>sigma_a</th>\n",
              "      <th>sigma_q</th>\n",
              "      <th>sigma_i</th>\n",
              "      <th>sigma_om</th>\n",
              "      <th>sigma_w</th>\n",
              "      <th>sigma_ma</th>\n",
              "      <th>sigma_ad</th>\n",
              "      <th>sigma_n</th>\n",
              "      <th>sigma_tp</th>\n",
              "      <th>sigma_per</th>\n",
              "      <th>class</th>\n",
              "      <th>rms</th>\n",
              "    </tr>\n",
              "    <tr>\n",
              "      <th>spkid</th>\n",
              "      <th></th>\n",
              "      <th></th>\n",
              "      <th></th>\n",
              "      <th></th>\n",
              "      <th></th>\n",
              "      <th></th>\n",
              "      <th></th>\n",
              "      <th></th>\n",
              "      <th></th>\n",
              "      <th></th>\n",
              "      <th></th>\n",
              "      <th></th>\n",
              "      <th></th>\n",
              "      <th></th>\n",
              "      <th></th>\n",
              "      <th></th>\n",
              "      <th></th>\n",
              "      <th></th>\n",
              "      <th></th>\n",
              "      <th></th>\n",
              "      <th></th>\n",
              "      <th></th>\n",
              "      <th></th>\n",
              "      <th></th>\n",
              "      <th></th>\n",
              "      <th></th>\n",
              "      <th></th>\n",
              "      <th></th>\n",
              "      <th></th>\n",
              "      <th></th>\n",
              "      <th></th>\n",
              "      <th></th>\n",
              "      <th></th>\n",
              "      <th></th>\n",
              "      <th></th>\n",
              "      <th></th>\n",
              "      <th></th>\n",
              "      <th></th>\n",
              "      <th></th>\n",
              "      <th></th>\n",
              "      <th></th>\n",
              "      <th></th>\n",
              "      <th></th>\n",
              "      <th></th>\n",
              "    </tr>\n",
              "  </thead>\n",
              "  <tbody>\n",
              "    <tr>\n",
              "      <th>54017228</th>\n",
              "      <td>bK20K04K</td>\n",
              "      <td>(2020 KK4)</td>\n",
              "      <td>2020 KK4</td>\n",
              "      <td>NaN</td>\n",
              "      <td>NaN</td>\n",
              "      <td>Y</td>\n",
              "      <td>N</td>\n",
              "      <td>26.141</td>\n",
              "      <td>NaN</td>\n",
              "      <td>NaN</td>\n",
              "      <td>NaN</td>\n",
              "      <td>JPL 1</td>\n",
              "      <td>2458993.5</td>\n",
              "      <td>58993</td>\n",
              "      <td>20200524.0</td>\n",
              "      <td>J2000</td>\n",
              "      <td>0.395881</td>\n",
              "      <td>1.604304</td>\n",
              "      <td>0.969190</td>\n",
              "      <td>3.638559</td>\n",
              "      <td>241.461273</td>\n",
              "      <td>322.686496</td>\n",
              "      <td>15.881351</td>\n",
              "      <td>2.239418</td>\n",
              "      <td>0.485036</td>\n",
              "      <td>2.458961e+06</td>\n",
              "      <td>2.020042e+07</td>\n",
              "      <td>742.212726</td>\n",
              "      <td>2.032068</td>\n",
              "      <td>0.006093</td>\n",
              "      <td>2.371080</td>\n",
              "      <td>0.000818</td>\n",
              "      <td>0.002093</td>\n",
              "      <td>0.000048</td>\n",
              "      <td>0.005783</td>\n",
              "      <td>0.001141</td>\n",
              "      <td>0.003870</td>\n",
              "      <td>0.037536</td>\n",
              "      <td>0.002922</td>\n",
              "      <td>0.000949</td>\n",
              "      <td>0.013315</td>\n",
              "      <td>1.45270</td>\n",
              "      <td>APO</td>\n",
              "      <td>0.63662</td>\n",
              "    </tr>\n",
              "    <tr>\n",
              "      <th>54017229</th>\n",
              "      <td>bK20K04M</td>\n",
              "      <td>(2020 KM4)</td>\n",
              "      <td>2020 KM4</td>\n",
              "      <td>NaN</td>\n",
              "      <td>NaN</td>\n",
              "      <td>Y</td>\n",
              "      <td>N</td>\n",
              "      <td>27.898</td>\n",
              "      <td>NaN</td>\n",
              "      <td>NaN</td>\n",
              "      <td>NaN</td>\n",
              "      <td>JPL 1</td>\n",
              "      <td>2459000.5</td>\n",
              "      <td>59000</td>\n",
              "      <td>20200531.0</td>\n",
              "      <td>J2000</td>\n",
              "      <td>0.223160</td>\n",
              "      <td>1.271914</td>\n",
              "      <td>0.988073</td>\n",
              "      <td>6.094056</td>\n",
              "      <td>64.571204</td>\n",
              "      <td>214.529904</td>\n",
              "      <td>341.603063</td>\n",
              "      <td>1.555754</td>\n",
              "      <td>0.687096</td>\n",
              "      <td>2.459027e+06</td>\n",
              "      <td>2.020063e+07</td>\n",
              "      <td>523.943978</td>\n",
              "      <td>1.434480</td>\n",
              "      <td>0.005380</td>\n",
              "      <td>2.093544</td>\n",
              "      <td>0.000383</td>\n",
              "      <td>0.000581</td>\n",
              "      <td>0.000035</td>\n",
              "      <td>0.009403</td>\n",
              "      <td>0.000130</td>\n",
              "      <td>0.000195</td>\n",
              "      <td>0.016399</td>\n",
              "      <td>0.000711</td>\n",
              "      <td>0.000471</td>\n",
              "      <td>0.005509</td>\n",
              "      <td>0.35924</td>\n",
              "      <td>APO</td>\n",
              "      <td>0.42725</td>\n",
              "    </tr>\n",
              "    <tr>\n",
              "      <th>54017230</th>\n",
              "      <td>bK20K04O</td>\n",
              "      <td>(2020 KO4)</td>\n",
              "      <td>2020 KO4</td>\n",
              "      <td>NaN</td>\n",
              "      <td>NaN</td>\n",
              "      <td>Y</td>\n",
              "      <td>N</td>\n",
              "      <td>26.980</td>\n",
              "      <td>NaN</td>\n",
              "      <td>NaN</td>\n",
              "      <td>NaN</td>\n",
              "      <td>JPL 1</td>\n",
              "      <td>2458991.5</td>\n",
              "      <td>58991</td>\n",
              "      <td>20200522.0</td>\n",
              "      <td>J2000</td>\n",
              "      <td>0.567768</td>\n",
              "      <td>2.175390</td>\n",
              "      <td>0.940274</td>\n",
              "      <td>3.579334</td>\n",
              "      <td>65.150716</td>\n",
              "      <td>220.493639</td>\n",
              "      <td>348.725881</td>\n",
              "      <td>3.410506</td>\n",
              "      <td>0.307184</td>\n",
              "      <td>2.459028e+06</td>\n",
              "      <td>2.020063e+07</td>\n",
              "      <td>1171.936620</td>\n",
              "      <td>3.208588</td>\n",
              "      <td>0.003895</td>\n",
              "      <td>1.515833</td>\n",
              "      <td>0.000964</td>\n",
              "      <td>0.004640</td>\n",
              "      <td>0.000091</td>\n",
              "      <td>0.004373</td>\n",
              "      <td>0.000994</td>\n",
              "      <td>0.003949</td>\n",
              "      <td>0.038764</td>\n",
              "      <td>0.007274</td>\n",
              "      <td>0.000983</td>\n",
              "      <td>0.008769</td>\n",
              "      <td>3.74950</td>\n",
              "      <td>APO</td>\n",
              "      <td>0.61686</td>\n",
              "    </tr>\n",
              "    <tr>\n",
              "      <th>54017231</th>\n",
              "      <td>bK20K04N</td>\n",
              "      <td>(2020 KN4)</td>\n",
              "      <td>2020 KN4</td>\n",
              "      <td>NaN</td>\n",
              "      <td>NaN</td>\n",
              "      <td>Y</td>\n",
              "      <td>N</td>\n",
              "      <td>21.510</td>\n",
              "      <td>NaN</td>\n",
              "      <td>NaN</td>\n",
              "      <td>NaN</td>\n",
              "      <td>JPL 1</td>\n",
              "      <td>2458994.5</td>\n",
              "      <td>58994</td>\n",
              "      <td>20200525.0</td>\n",
              "      <td>J2000</td>\n",
              "      <td>0.292102</td>\n",
              "      <td>1.059285</td>\n",
              "      <td>0.749866</td>\n",
              "      <td>34.546369</td>\n",
              "      <td>247.860565</td>\n",
              "      <td>249.476426</td>\n",
              "      <td>76.239413</td>\n",
              "      <td>1.368704</td>\n",
              "      <td>0.904034</td>\n",
              "      <td>2.458910e+06</td>\n",
              "      <td>2.020030e+07</td>\n",
              "      <td>398.215030</td>\n",
              "      <td>1.090253</td>\n",
              "      <td>0.057911</td>\n",
              "      <td>22.537107</td>\n",
              "      <td>0.001026</td>\n",
              "      <td>0.002513</td>\n",
              "      <td>0.000693</td>\n",
              "      <td>0.188380</td>\n",
              "      <td>0.015119</td>\n",
              "      <td>0.335950</td>\n",
              "      <td>0.485930</td>\n",
              "      <td>0.003247</td>\n",
              "      <td>0.003217</td>\n",
              "      <td>0.237400</td>\n",
              "      <td>1.41730</td>\n",
              "      <td>APO</td>\n",
              "      <td>0.25400</td>\n",
              "    </tr>\n",
              "    <tr>\n",
              "      <th>54017232</th>\n",
              "      <td>bK20K04Q</td>\n",
              "      <td>(2020 KQ4)</td>\n",
              "      <td>2020 KQ4</td>\n",
              "      <td>NaN</td>\n",
              "      <td>NaN</td>\n",
              "      <td>Y</td>\n",
              "      <td>N</td>\n",
              "      <td>26.419</td>\n",
              "      <td>NaN</td>\n",
              "      <td>NaN</td>\n",
              "      <td>NaN</td>\n",
              "      <td>JPL 1</td>\n",
              "      <td>2459000.5</td>\n",
              "      <td>59000</td>\n",
              "      <td>20200531.0</td>\n",
              "      <td>J2000</td>\n",
              "      <td>0.133246</td>\n",
              "      <td>1.065046</td>\n",
              "      <td>0.923133</td>\n",
              "      <td>4.922687</td>\n",
              "      <td>60.470005</td>\n",
              "      <td>106.428094</td>\n",
              "      <td>67.343617</td>\n",
              "      <td>1.206958</td>\n",
              "      <td>0.896709</td>\n",
              "      <td>2.458925e+06</td>\n",
              "      <td>2.020032e+07</td>\n",
              "      <td>401.467813</td>\n",
              "      <td>1.099159</td>\n",
              "      <td>0.002528</td>\n",
              "      <td>0.983884</td>\n",
              "      <td>0.000585</td>\n",
              "      <td>0.000400</td>\n",
              "      <td>0.000277</td>\n",
              "      <td>0.021693</td>\n",
              "      <td>0.002847</td>\n",
              "      <td>0.035812</td>\n",
              "      <td>0.097113</td>\n",
              "      <td>0.000454</td>\n",
              "      <td>0.000505</td>\n",
              "      <td>0.065993</td>\n",
              "      <td>0.22627</td>\n",
              "      <td>APO</td>\n",
              "      <td>0.45051</td>\n",
              "    </tr>\n",
              "  </tbody>\n",
              "</table>\n",
              "</div>"
            ],
            "text/plain": [
              "                id          full_name      pdes  ... sigma_per class      rms\n",
              "spkid                                            ...                         \n",
              "54017228  bK20K04K         (2020 KK4)  2020 KK4  ...   1.45270   APO  0.63662\n",
              "54017229  bK20K04M         (2020 KM4)  2020 KM4  ...   0.35924   APO  0.42725\n",
              "54017230  bK20K04O         (2020 KO4)  2020 KO4  ...   3.74950   APO  0.61686\n",
              "54017231  bK20K04N         (2020 KN4)  2020 KN4  ...   1.41730   APO  0.25400\n",
              "54017232  bK20K04Q         (2020 KQ4)  2020 KQ4  ...   0.22627   APO  0.45051\n",
              "\n",
              "[5 rows x 44 columns]"
            ]
          },
          "metadata": {
            "tags": []
          },
          "execution_count": 20
        }
      ]
    },
    {
      "cell_type": "code",
      "metadata": {
        "colab": {
          "base_uri": "https://localhost:8080/"
        },
        "id": "14lyw8HQT-7E",
        "outputId": "6d036d2b-5885-4c59-c167-266b341b4c57"
      },
      "source": [
        "asteroid_data.isnull().sum()"
      ],
      "execution_count": null,
      "outputs": [
        {
          "output_type": "execute_result",
          "data": {
            "text/plain": [
              "id                     0\n",
              "full_name              0\n",
              "pdes                   0\n",
              "name              936460\n",
              "prefix            958506\n",
              "neo                    4\n",
              "pha                19921\n",
              "H                   6263\n",
              "diameter          822315\n",
              "albedo            823421\n",
              "diameter_sigma    822443\n",
              "orbit_id               0\n",
              "epoch                  0\n",
              "epoch_mjd              0\n",
              "epoch_cal              0\n",
              "equinox                0\n",
              "e                      0\n",
              "a                      0\n",
              "q                      0\n",
              "i                      0\n",
              "om                     0\n",
              "w                      0\n",
              "ma                     1\n",
              "ad                     4\n",
              "n                      0\n",
              "tp                     0\n",
              "tp_cal                 0\n",
              "per                    4\n",
              "per_y                  1\n",
              "moid               19921\n",
              "moid_ld              127\n",
              "sigma_e            19922\n",
              "sigma_a            19922\n",
              "sigma_q            19922\n",
              "sigma_i            19922\n",
              "sigma_om           19922\n",
              "sigma_w            19922\n",
              "sigma_ma           19922\n",
              "sigma_ad           19926\n",
              "sigma_n            19922\n",
              "sigma_tp           19922\n",
              "sigma_per          19926\n",
              "class                  0\n",
              "rms                    2\n",
              "dtype: int64"
            ]
          },
          "metadata": {
            "tags": []
          },
          "execution_count": 21
        }
      ]
    },
    {
      "cell_type": "code",
      "metadata": {
        "colab": {
          "base_uri": "https://localhost:8080/"
        },
        "id": "dAGUNl9DT-7E",
        "outputId": "f097f047-3b9b-493e-8b39-f8a4d6102d48"
      },
      "source": [
        "asteroid_data.shape"
      ],
      "execution_count": null,
      "outputs": [
        {
          "output_type": "execute_result",
          "data": {
            "text/plain": [
              "(958524, 44)"
            ]
          },
          "metadata": {
            "tags": []
          },
          "execution_count": 22
        }
      ]
    },
    {
      "cell_type": "code",
      "metadata": {
        "id": "_h00hJzmT-7F"
      },
      "source": [
        "dataframe=asteroid_data.drop(columns=['name','epoch','prefix','orbit_id','id','pha','full_name','pdes','diameter_sigma','epoch_mjd','epoch_cal','equinox','neo','sigma_e','sigma_a','sigma_q','sigma_i','sigma_om','sigma_om','sigma_w','sigma_ma','sigma_ad','sigma_n','sigma_tp','sigma_per','rms','per_y','moid','tp','tp_cal'])"
      ],
      "execution_count": null,
      "outputs": []
    },
    {
      "cell_type": "code",
      "metadata": {
        "colab": {
          "base_uri": "https://localhost:8080/",
          "height": 238
        },
        "id": "Ar7AB0YXT-7F",
        "outputId": "e031daec-fba7-419a-d78c-83193b04f6fd"
      },
      "source": [
        "dataframe.head(5)"
      ],
      "execution_count": null,
      "outputs": [
        {
          "output_type": "execute_result",
          "data": {
            "text/html": [
              "<div>\n",
              "<style scoped>\n",
              "    .dataframe tbody tr th:only-of-type {\n",
              "        vertical-align: middle;\n",
              "    }\n",
              "\n",
              "    .dataframe tbody tr th {\n",
              "        vertical-align: top;\n",
              "    }\n",
              "\n",
              "    .dataframe thead th {\n",
              "        text-align: right;\n",
              "    }\n",
              "</style>\n",
              "<table border=\"1\" class=\"dataframe\">\n",
              "  <thead>\n",
              "    <tr style=\"text-align: right;\">\n",
              "      <th></th>\n",
              "      <th>H</th>\n",
              "      <th>diameter</th>\n",
              "      <th>albedo</th>\n",
              "      <th>e</th>\n",
              "      <th>a</th>\n",
              "      <th>q</th>\n",
              "      <th>i</th>\n",
              "      <th>om</th>\n",
              "      <th>w</th>\n",
              "      <th>ma</th>\n",
              "      <th>ad</th>\n",
              "      <th>n</th>\n",
              "      <th>per</th>\n",
              "      <th>moid_ld</th>\n",
              "      <th>class</th>\n",
              "    </tr>\n",
              "    <tr>\n",
              "      <th>spkid</th>\n",
              "      <th></th>\n",
              "      <th></th>\n",
              "      <th></th>\n",
              "      <th></th>\n",
              "      <th></th>\n",
              "      <th></th>\n",
              "      <th></th>\n",
              "      <th></th>\n",
              "      <th></th>\n",
              "      <th></th>\n",
              "      <th></th>\n",
              "      <th></th>\n",
              "      <th></th>\n",
              "      <th></th>\n",
              "      <th></th>\n",
              "    </tr>\n",
              "  </thead>\n",
              "  <tbody>\n",
              "    <tr>\n",
              "      <th>2000001</th>\n",
              "      <td>3.40</td>\n",
              "      <td>939.400</td>\n",
              "      <td>0.0900</td>\n",
              "      <td>0.076009</td>\n",
              "      <td>2.769165</td>\n",
              "      <td>2.558684</td>\n",
              "      <td>10.594067</td>\n",
              "      <td>80.305531</td>\n",
              "      <td>73.597695</td>\n",
              "      <td>77.372098</td>\n",
              "      <td>2.979647</td>\n",
              "      <td>0.213885</td>\n",
              "      <td>1683.145703</td>\n",
              "      <td>620.640533</td>\n",
              "      <td>MBA</td>\n",
              "    </tr>\n",
              "    <tr>\n",
              "      <th>2000002</th>\n",
              "      <td>4.20</td>\n",
              "      <td>545.000</td>\n",
              "      <td>0.1010</td>\n",
              "      <td>0.229972</td>\n",
              "      <td>2.773841</td>\n",
              "      <td>2.135935</td>\n",
              "      <td>34.832932</td>\n",
              "      <td>173.024741</td>\n",
              "      <td>310.202392</td>\n",
              "      <td>144.975675</td>\n",
              "      <td>3.411748</td>\n",
              "      <td>0.213345</td>\n",
              "      <td>1687.410992</td>\n",
              "      <td>480.348639</td>\n",
              "      <td>MBA</td>\n",
              "    </tr>\n",
              "    <tr>\n",
              "      <th>2000003</th>\n",
              "      <td>5.33</td>\n",
              "      <td>246.596</td>\n",
              "      <td>0.2140</td>\n",
              "      <td>0.256936</td>\n",
              "      <td>2.668285</td>\n",
              "      <td>1.982706</td>\n",
              "      <td>12.991043</td>\n",
              "      <td>169.851482</td>\n",
              "      <td>248.066193</td>\n",
              "      <td>125.435355</td>\n",
              "      <td>3.353865</td>\n",
              "      <td>0.226129</td>\n",
              "      <td>1592.013769</td>\n",
              "      <td>402.514639</td>\n",
              "      <td>MBA</td>\n",
              "    </tr>\n",
              "    <tr>\n",
              "      <th>2000004</th>\n",
              "      <td>3.00</td>\n",
              "      <td>525.400</td>\n",
              "      <td>0.4228</td>\n",
              "      <td>0.088721</td>\n",
              "      <td>2.361418</td>\n",
              "      <td>2.151909</td>\n",
              "      <td>7.141771</td>\n",
              "      <td>103.810804</td>\n",
              "      <td>150.728541</td>\n",
              "      <td>95.861938</td>\n",
              "      <td>2.570926</td>\n",
              "      <td>0.271609</td>\n",
              "      <td>1325.432763</td>\n",
              "      <td>443.451432</td>\n",
              "      <td>MBA</td>\n",
              "    </tr>\n",
              "    <tr>\n",
              "      <th>2000005</th>\n",
              "      <td>6.90</td>\n",
              "      <td>106.699</td>\n",
              "      <td>0.2740</td>\n",
              "      <td>0.190913</td>\n",
              "      <td>2.574037</td>\n",
              "      <td>2.082619</td>\n",
              "      <td>5.367427</td>\n",
              "      <td>141.571026</td>\n",
              "      <td>358.648418</td>\n",
              "      <td>17.846343</td>\n",
              "      <td>3.065455</td>\n",
              "      <td>0.238661</td>\n",
              "      <td>1508.414421</td>\n",
              "      <td>426.433028</td>\n",
              "      <td>MBA</td>\n",
              "    </tr>\n",
              "  </tbody>\n",
              "</table>\n",
              "</div>"
            ],
            "text/plain": [
              "            H  diameter  albedo  ...          per     moid_ld  class\n",
              "spkid                            ...                                \n",
              "2000001  3.40   939.400  0.0900  ...  1683.145703  620.640533    MBA\n",
              "2000002  4.20   545.000  0.1010  ...  1687.410992  480.348639    MBA\n",
              "2000003  5.33   246.596  0.2140  ...  1592.013769  402.514639    MBA\n",
              "2000004  3.00   525.400  0.4228  ...  1325.432763  443.451432    MBA\n",
              "2000005  6.90   106.699  0.2740  ...  1508.414421  426.433028    MBA\n",
              "\n",
              "[5 rows x 15 columns]"
            ]
          },
          "metadata": {
            "tags": []
          },
          "execution_count": 24
        }
      ]
    },
    {
      "cell_type": "code",
      "metadata": {
        "colab": {
          "base_uri": "https://localhost:8080/",
          "height": 238
        },
        "id": "EsyBIPaxT-7G",
        "outputId": "113f72c7-df5b-4459-9c80-a834673b1e7c"
      },
      "source": [
        "dataframe.tail(5)"
      ],
      "execution_count": null,
      "outputs": [
        {
          "output_type": "execute_result",
          "data": {
            "text/html": [
              "<div>\n",
              "<style scoped>\n",
              "    .dataframe tbody tr th:only-of-type {\n",
              "        vertical-align: middle;\n",
              "    }\n",
              "\n",
              "    .dataframe tbody tr th {\n",
              "        vertical-align: top;\n",
              "    }\n",
              "\n",
              "    .dataframe thead th {\n",
              "        text-align: right;\n",
              "    }\n",
              "</style>\n",
              "<table border=\"1\" class=\"dataframe\">\n",
              "  <thead>\n",
              "    <tr style=\"text-align: right;\">\n",
              "      <th></th>\n",
              "      <th>H</th>\n",
              "      <th>diameter</th>\n",
              "      <th>albedo</th>\n",
              "      <th>e</th>\n",
              "      <th>a</th>\n",
              "      <th>q</th>\n",
              "      <th>i</th>\n",
              "      <th>om</th>\n",
              "      <th>w</th>\n",
              "      <th>ma</th>\n",
              "      <th>ad</th>\n",
              "      <th>n</th>\n",
              "      <th>per</th>\n",
              "      <th>moid_ld</th>\n",
              "      <th>class</th>\n",
              "    </tr>\n",
              "    <tr>\n",
              "      <th>spkid</th>\n",
              "      <th></th>\n",
              "      <th></th>\n",
              "      <th></th>\n",
              "      <th></th>\n",
              "      <th></th>\n",
              "      <th></th>\n",
              "      <th></th>\n",
              "      <th></th>\n",
              "      <th></th>\n",
              "      <th></th>\n",
              "      <th></th>\n",
              "      <th></th>\n",
              "      <th></th>\n",
              "      <th></th>\n",
              "      <th></th>\n",
              "    </tr>\n",
              "  </thead>\n",
              "  <tbody>\n",
              "    <tr>\n",
              "      <th>54017228</th>\n",
              "      <td>26.141</td>\n",
              "      <td>NaN</td>\n",
              "      <td>NaN</td>\n",
              "      <td>0.395881</td>\n",
              "      <td>1.604304</td>\n",
              "      <td>0.969190</td>\n",
              "      <td>3.638559</td>\n",
              "      <td>241.461273</td>\n",
              "      <td>322.686496</td>\n",
              "      <td>15.881351</td>\n",
              "      <td>2.239418</td>\n",
              "      <td>0.485036</td>\n",
              "      <td>742.212726</td>\n",
              "      <td>2.371080</td>\n",
              "      <td>APO</td>\n",
              "    </tr>\n",
              "    <tr>\n",
              "      <th>54017229</th>\n",
              "      <td>27.898</td>\n",
              "      <td>NaN</td>\n",
              "      <td>NaN</td>\n",
              "      <td>0.223160</td>\n",
              "      <td>1.271914</td>\n",
              "      <td>0.988073</td>\n",
              "      <td>6.094056</td>\n",
              "      <td>64.571204</td>\n",
              "      <td>214.529904</td>\n",
              "      <td>341.603063</td>\n",
              "      <td>1.555754</td>\n",
              "      <td>0.687096</td>\n",
              "      <td>523.943978</td>\n",
              "      <td>2.093544</td>\n",
              "      <td>APO</td>\n",
              "    </tr>\n",
              "    <tr>\n",
              "      <th>54017230</th>\n",
              "      <td>26.980</td>\n",
              "      <td>NaN</td>\n",
              "      <td>NaN</td>\n",
              "      <td>0.567768</td>\n",
              "      <td>2.175390</td>\n",
              "      <td>0.940274</td>\n",
              "      <td>3.579334</td>\n",
              "      <td>65.150716</td>\n",
              "      <td>220.493639</td>\n",
              "      <td>348.725881</td>\n",
              "      <td>3.410506</td>\n",
              "      <td>0.307184</td>\n",
              "      <td>1171.936620</td>\n",
              "      <td>1.515833</td>\n",
              "      <td>APO</td>\n",
              "    </tr>\n",
              "    <tr>\n",
              "      <th>54017231</th>\n",
              "      <td>21.510</td>\n",
              "      <td>NaN</td>\n",
              "      <td>NaN</td>\n",
              "      <td>0.292102</td>\n",
              "      <td>1.059285</td>\n",
              "      <td>0.749866</td>\n",
              "      <td>34.546369</td>\n",
              "      <td>247.860565</td>\n",
              "      <td>249.476426</td>\n",
              "      <td>76.239413</td>\n",
              "      <td>1.368704</td>\n",
              "      <td>0.904034</td>\n",
              "      <td>398.215030</td>\n",
              "      <td>22.537107</td>\n",
              "      <td>APO</td>\n",
              "    </tr>\n",
              "    <tr>\n",
              "      <th>54017232</th>\n",
              "      <td>26.419</td>\n",
              "      <td>NaN</td>\n",
              "      <td>NaN</td>\n",
              "      <td>0.133246</td>\n",
              "      <td>1.065046</td>\n",
              "      <td>0.923133</td>\n",
              "      <td>4.922687</td>\n",
              "      <td>60.470005</td>\n",
              "      <td>106.428094</td>\n",
              "      <td>67.343617</td>\n",
              "      <td>1.206958</td>\n",
              "      <td>0.896709</td>\n",
              "      <td>401.467813</td>\n",
              "      <td>0.983884</td>\n",
              "      <td>APO</td>\n",
              "    </tr>\n",
              "  </tbody>\n",
              "</table>\n",
              "</div>"
            ],
            "text/plain": [
              "               H  diameter  albedo  ...          per    moid_ld  class\n",
              "spkid                               ...                               \n",
              "54017228  26.141       NaN     NaN  ...   742.212726   2.371080    APO\n",
              "54017229  27.898       NaN     NaN  ...   523.943978   2.093544    APO\n",
              "54017230  26.980       NaN     NaN  ...  1171.936620   1.515833    APO\n",
              "54017231  21.510       NaN     NaN  ...   398.215030  22.537107    APO\n",
              "54017232  26.419       NaN     NaN  ...   401.467813   0.983884    APO\n",
              "\n",
              "[5 rows x 15 columns]"
            ]
          },
          "metadata": {
            "tags": []
          },
          "execution_count": 25
        }
      ]
    },
    {
      "cell_type": "code",
      "metadata": {
        "colab": {
          "base_uri": "https://localhost:8080/"
        },
        "id": "CrFJ1rRmT-7G",
        "outputId": "ce102472-8cd8-47fe-e36f-24fdc0da31f0"
      },
      "source": [
        "dataframe.isnull().sum()"
      ],
      "execution_count": null,
      "outputs": [
        {
          "output_type": "execute_result",
          "data": {
            "text/plain": [
              "H             6263\n",
              "diameter    822315\n",
              "albedo      823421\n",
              "e                0\n",
              "a                0\n",
              "q                0\n",
              "i                0\n",
              "om               0\n",
              "w                0\n",
              "ma               1\n",
              "ad               4\n",
              "n                0\n",
              "per              4\n",
              "moid_ld        127\n",
              "class            0\n",
              "dtype: int64"
            ]
          },
          "metadata": {
            "tags": []
          },
          "execution_count": 26
        }
      ]
    },
    {
      "cell_type": "code",
      "metadata": {
        "colab": {
          "base_uri": "https://localhost:8080/"
        },
        "id": "PoNVyQCbT-7H",
        "outputId": "58b14403-8e8b-4a07-b671-ddc76ce6fcb8"
      },
      "source": [
        "dataframe['class'].value_counts()"
      ],
      "execution_count": null,
      "outputs": [
        {
          "output_type": "execute_result",
          "data": {
            "text/plain": [
              "MBA    855954\n",
              "OMB     28355\n",
              "IMB     20360\n",
              "MCA     18685\n",
              "APO     12687\n",
              "AMO      8457\n",
              "TJN      8221\n",
              "TNO      3468\n",
              "ATE      1729\n",
              "CEN       506\n",
              "AST        76\n",
              "IEO        22\n",
              "HYA         4\n",
              "Name: class, dtype: int64"
            ]
          },
          "metadata": {
            "tags": []
          },
          "execution_count": 27
        }
      ]
    },
    {
      "cell_type": "code",
      "metadata": {
        "colab": {
          "base_uri": "https://localhost:8080/"
        },
        "id": "ZAGpbSyFT-7H",
        "outputId": "3a016ce4-bb9e-40a5-96bd-db54b9566142"
      },
      "source": [
        "dataframe.info()"
      ],
      "execution_count": null,
      "outputs": [
        {
          "output_type": "stream",
          "text": [
            "<class 'pandas.core.frame.DataFrame'>\n",
            "Int64Index: 958524 entries, 2000001 to 54017232\n",
            "Data columns (total 15 columns):\n",
            " #   Column    Non-Null Count   Dtype  \n",
            "---  ------    --------------   -----  \n",
            " 0   H         952261 non-null  float64\n",
            " 1   diameter  136209 non-null  float64\n",
            " 2   albedo    135103 non-null  float64\n",
            " 3   e         958524 non-null  float64\n",
            " 4   a         958524 non-null  float64\n",
            " 5   q         958524 non-null  float64\n",
            " 6   i         958524 non-null  float64\n",
            " 7   om        958524 non-null  float64\n",
            " 8   w         958524 non-null  float64\n",
            " 9   ma        958523 non-null  float64\n",
            " 10  ad        958520 non-null  float64\n",
            " 11  n         958524 non-null  float64\n",
            " 12  per       958520 non-null  float64\n",
            " 13  moid_ld   958397 non-null  float64\n",
            " 14  class     958524 non-null  object \n",
            "dtypes: float64(14), object(1)\n",
            "memory usage: 117.0+ MB\n"
          ],
          "name": "stdout"
        }
      ]
    },
    {
      "cell_type": "code",
      "metadata": {
        "id": "RQwiS2jTT-7H"
      },
      "source": [
        "dataframe['diameter']=dataframe['diameter'].astype('float64')\n",
        "dataframe['class']=dataframe['class'].astype('category')"
      ],
      "execution_count": null,
      "outputs": []
    },
    {
      "cell_type": "code",
      "metadata": {
        "colab": {
          "base_uri": "https://localhost:8080/"
        },
        "id": "obf4bSZWT-7H",
        "outputId": "655d0a23-9e06-46f5-8b12-98958b52abea"
      },
      "source": [
        "dataframe.info()"
      ],
      "execution_count": null,
      "outputs": [
        {
          "output_type": "stream",
          "text": [
            "<class 'pandas.core.frame.DataFrame'>\n",
            "Int64Index: 958524 entries, 2000001 to 54017232\n",
            "Data columns (total 15 columns):\n",
            " #   Column    Non-Null Count   Dtype   \n",
            "---  ------    --------------   -----   \n",
            " 0   H         952261 non-null  float64 \n",
            " 1   diameter  136209 non-null  float64 \n",
            " 2   albedo    135103 non-null  float64 \n",
            " 3   e         958524 non-null  float64 \n",
            " 4   a         958524 non-null  float64 \n",
            " 5   q         958524 non-null  float64 \n",
            " 6   i         958524 non-null  float64 \n",
            " 7   om        958524 non-null  float64 \n",
            " 8   w         958524 non-null  float64 \n",
            " 9   ma        958523 non-null  float64 \n",
            " 10  ad        958520 non-null  float64 \n",
            " 11  n         958524 non-null  float64 \n",
            " 12  per       958520 non-null  float64 \n",
            " 13  moid_ld   958397 non-null  float64 \n",
            " 14  class     958524 non-null  category\n",
            "dtypes: category(1), float64(14)\n",
            "memory usage: 110.6 MB\n"
          ],
          "name": "stdout"
        }
      ]
    },
    {
      "cell_type": "code",
      "metadata": {
        "id": "HvMGXz7OT-7H"
      },
      "source": [
        "dataframe['diameter'].fillna(dataframe.groupby('class')['diameter'].transform('median'),inplace=True)\n",
        "dataframe['H'].fillna(dataframe.groupby('class')['H'].transform('median'),inplace=True)\n",
        "dataframe['albedo'].fillna(dataframe.groupby('class')['albedo'].transform('median'),inplace=True)\n",
        "dataframe['ma'].fillna(dataframe.groupby('class')['ma'].transform('median'),inplace=True)\n",
        "dataframe['ad'].fillna(dataframe.groupby('class')['ad'].transform('median'),inplace=True)\n",
        "dataframe['per'].fillna(dataframe.groupby('class')['per'].transform('median'),inplace=True)\n",
        "dataframe['moid_ld'].fillna(dataframe.groupby('class')['moid_ld'].transform('median'),inplace=True)\n"
      ],
      "execution_count": null,
      "outputs": []
    },
    {
      "cell_type": "code",
      "metadata": {
        "colab": {
          "base_uri": "https://localhost:8080/",
          "height": 238
        },
        "id": "bv7eCUbrT-7I",
        "outputId": "c7902171-2699-4187-a650-1fd4245bee68"
      },
      "source": [
        "dataframe.groupby('class')['diameter'].transform('median')\n",
        "dataframe.head(5)"
      ],
      "execution_count": null,
      "outputs": [
        {
          "output_type": "execute_result",
          "data": {
            "text/html": [
              "<div>\n",
              "<style scoped>\n",
              "    .dataframe tbody tr th:only-of-type {\n",
              "        vertical-align: middle;\n",
              "    }\n",
              "\n",
              "    .dataframe tbody tr th {\n",
              "        vertical-align: top;\n",
              "    }\n",
              "\n",
              "    .dataframe thead th {\n",
              "        text-align: right;\n",
              "    }\n",
              "</style>\n",
              "<table border=\"1\" class=\"dataframe\">\n",
              "  <thead>\n",
              "    <tr style=\"text-align: right;\">\n",
              "      <th></th>\n",
              "      <th>H</th>\n",
              "      <th>diameter</th>\n",
              "      <th>albedo</th>\n",
              "      <th>e</th>\n",
              "      <th>a</th>\n",
              "      <th>q</th>\n",
              "      <th>i</th>\n",
              "      <th>om</th>\n",
              "      <th>w</th>\n",
              "      <th>ma</th>\n",
              "      <th>ad</th>\n",
              "      <th>n</th>\n",
              "      <th>per</th>\n",
              "      <th>moid_ld</th>\n",
              "      <th>class</th>\n",
              "    </tr>\n",
              "    <tr>\n",
              "      <th>spkid</th>\n",
              "      <th></th>\n",
              "      <th></th>\n",
              "      <th></th>\n",
              "      <th></th>\n",
              "      <th></th>\n",
              "      <th></th>\n",
              "      <th></th>\n",
              "      <th></th>\n",
              "      <th></th>\n",
              "      <th></th>\n",
              "      <th></th>\n",
              "      <th></th>\n",
              "      <th></th>\n",
              "      <th></th>\n",
              "      <th></th>\n",
              "    </tr>\n",
              "  </thead>\n",
              "  <tbody>\n",
              "    <tr>\n",
              "      <th>2000001</th>\n",
              "      <td>3.40</td>\n",
              "      <td>939.400</td>\n",
              "      <td>0.0900</td>\n",
              "      <td>0.076009</td>\n",
              "      <td>2.769165</td>\n",
              "      <td>2.558684</td>\n",
              "      <td>10.594067</td>\n",
              "      <td>80.305531</td>\n",
              "      <td>73.597695</td>\n",
              "      <td>77.372098</td>\n",
              "      <td>2.979647</td>\n",
              "      <td>0.213885</td>\n",
              "      <td>1683.145703</td>\n",
              "      <td>620.640533</td>\n",
              "      <td>MBA</td>\n",
              "    </tr>\n",
              "    <tr>\n",
              "      <th>2000002</th>\n",
              "      <td>4.20</td>\n",
              "      <td>545.000</td>\n",
              "      <td>0.1010</td>\n",
              "      <td>0.229972</td>\n",
              "      <td>2.773841</td>\n",
              "      <td>2.135935</td>\n",
              "      <td>34.832932</td>\n",
              "      <td>173.024741</td>\n",
              "      <td>310.202392</td>\n",
              "      <td>144.975675</td>\n",
              "      <td>3.411748</td>\n",
              "      <td>0.213345</td>\n",
              "      <td>1687.410992</td>\n",
              "      <td>480.348639</td>\n",
              "      <td>MBA</td>\n",
              "    </tr>\n",
              "    <tr>\n",
              "      <th>2000003</th>\n",
              "      <td>5.33</td>\n",
              "      <td>246.596</td>\n",
              "      <td>0.2140</td>\n",
              "      <td>0.256936</td>\n",
              "      <td>2.668285</td>\n",
              "      <td>1.982706</td>\n",
              "      <td>12.991043</td>\n",
              "      <td>169.851482</td>\n",
              "      <td>248.066193</td>\n",
              "      <td>125.435355</td>\n",
              "      <td>3.353865</td>\n",
              "      <td>0.226129</td>\n",
              "      <td>1592.013769</td>\n",
              "      <td>402.514639</td>\n",
              "      <td>MBA</td>\n",
              "    </tr>\n",
              "    <tr>\n",
              "      <th>2000004</th>\n",
              "      <td>3.00</td>\n",
              "      <td>525.400</td>\n",
              "      <td>0.4228</td>\n",
              "      <td>0.088721</td>\n",
              "      <td>2.361418</td>\n",
              "      <td>2.151909</td>\n",
              "      <td>7.141771</td>\n",
              "      <td>103.810804</td>\n",
              "      <td>150.728541</td>\n",
              "      <td>95.861938</td>\n",
              "      <td>2.570926</td>\n",
              "      <td>0.271609</td>\n",
              "      <td>1325.432763</td>\n",
              "      <td>443.451432</td>\n",
              "      <td>MBA</td>\n",
              "    </tr>\n",
              "    <tr>\n",
              "      <th>2000005</th>\n",
              "      <td>6.90</td>\n",
              "      <td>106.699</td>\n",
              "      <td>0.2740</td>\n",
              "      <td>0.190913</td>\n",
              "      <td>2.574037</td>\n",
              "      <td>2.082619</td>\n",
              "      <td>5.367427</td>\n",
              "      <td>141.571026</td>\n",
              "      <td>358.648418</td>\n",
              "      <td>17.846343</td>\n",
              "      <td>3.065455</td>\n",
              "      <td>0.238661</td>\n",
              "      <td>1508.414421</td>\n",
              "      <td>426.433028</td>\n",
              "      <td>MBA</td>\n",
              "    </tr>\n",
              "  </tbody>\n",
              "</table>\n",
              "</div>"
            ],
            "text/plain": [
              "            H  diameter  albedo  ...          per     moid_ld  class\n",
              "spkid                            ...                                \n",
              "2000001  3.40   939.400  0.0900  ...  1683.145703  620.640533    MBA\n",
              "2000002  4.20   545.000  0.1010  ...  1687.410992  480.348639    MBA\n",
              "2000003  5.33   246.596  0.2140  ...  1592.013769  402.514639    MBA\n",
              "2000004  3.00   525.400  0.4228  ...  1325.432763  443.451432    MBA\n",
              "2000005  6.90   106.699  0.2740  ...  1508.414421  426.433028    MBA\n",
              "\n",
              "[5 rows x 15 columns]"
            ]
          },
          "metadata": {
            "tags": []
          },
          "execution_count": 32
        }
      ]
    },
    {
      "cell_type": "code",
      "metadata": {
        "colab": {
          "base_uri": "https://localhost:8080/",
          "height": 238
        },
        "id": "uRXXyHWpT-7I",
        "outputId": "049768a4-3897-49db-cfd4-473af48cca05"
      },
      "source": [
        "dataframe.tail(5)"
      ],
      "execution_count": null,
      "outputs": [
        {
          "output_type": "execute_result",
          "data": {
            "text/html": [
              "<div>\n",
              "<style scoped>\n",
              "    .dataframe tbody tr th:only-of-type {\n",
              "        vertical-align: middle;\n",
              "    }\n",
              "\n",
              "    .dataframe tbody tr th {\n",
              "        vertical-align: top;\n",
              "    }\n",
              "\n",
              "    .dataframe thead th {\n",
              "        text-align: right;\n",
              "    }\n",
              "</style>\n",
              "<table border=\"1\" class=\"dataframe\">\n",
              "  <thead>\n",
              "    <tr style=\"text-align: right;\">\n",
              "      <th></th>\n",
              "      <th>H</th>\n",
              "      <th>diameter</th>\n",
              "      <th>albedo</th>\n",
              "      <th>e</th>\n",
              "      <th>a</th>\n",
              "      <th>q</th>\n",
              "      <th>i</th>\n",
              "      <th>om</th>\n",
              "      <th>w</th>\n",
              "      <th>ma</th>\n",
              "      <th>ad</th>\n",
              "      <th>n</th>\n",
              "      <th>per</th>\n",
              "      <th>moid_ld</th>\n",
              "      <th>class</th>\n",
              "    </tr>\n",
              "    <tr>\n",
              "      <th>spkid</th>\n",
              "      <th></th>\n",
              "      <th></th>\n",
              "      <th></th>\n",
              "      <th></th>\n",
              "      <th></th>\n",
              "      <th></th>\n",
              "      <th></th>\n",
              "      <th></th>\n",
              "      <th></th>\n",
              "      <th></th>\n",
              "      <th></th>\n",
              "      <th></th>\n",
              "      <th></th>\n",
              "      <th></th>\n",
              "      <th></th>\n",
              "    </tr>\n",
              "  </thead>\n",
              "  <tbody>\n",
              "    <tr>\n",
              "      <th>54017228</th>\n",
              "      <td>26.141</td>\n",
              "      <td>0.6025</td>\n",
              "      <td>0.1455</td>\n",
              "      <td>0.395881</td>\n",
              "      <td>1.604304</td>\n",
              "      <td>0.969190</td>\n",
              "      <td>3.638559</td>\n",
              "      <td>241.461273</td>\n",
              "      <td>322.686496</td>\n",
              "      <td>15.881351</td>\n",
              "      <td>2.239418</td>\n",
              "      <td>0.485036</td>\n",
              "      <td>742.212726</td>\n",
              "      <td>2.371080</td>\n",
              "      <td>APO</td>\n",
              "    </tr>\n",
              "    <tr>\n",
              "      <th>54017229</th>\n",
              "      <td>27.898</td>\n",
              "      <td>0.6025</td>\n",
              "      <td>0.1455</td>\n",
              "      <td>0.223160</td>\n",
              "      <td>1.271914</td>\n",
              "      <td>0.988073</td>\n",
              "      <td>6.094056</td>\n",
              "      <td>64.571204</td>\n",
              "      <td>214.529904</td>\n",
              "      <td>341.603063</td>\n",
              "      <td>1.555754</td>\n",
              "      <td>0.687096</td>\n",
              "      <td>523.943978</td>\n",
              "      <td>2.093544</td>\n",
              "      <td>APO</td>\n",
              "    </tr>\n",
              "    <tr>\n",
              "      <th>54017230</th>\n",
              "      <td>26.980</td>\n",
              "      <td>0.6025</td>\n",
              "      <td>0.1455</td>\n",
              "      <td>0.567768</td>\n",
              "      <td>2.175390</td>\n",
              "      <td>0.940274</td>\n",
              "      <td>3.579334</td>\n",
              "      <td>65.150716</td>\n",
              "      <td>220.493639</td>\n",
              "      <td>348.725881</td>\n",
              "      <td>3.410506</td>\n",
              "      <td>0.307184</td>\n",
              "      <td>1171.936620</td>\n",
              "      <td>1.515833</td>\n",
              "      <td>APO</td>\n",
              "    </tr>\n",
              "    <tr>\n",
              "      <th>54017231</th>\n",
              "      <td>21.510</td>\n",
              "      <td>0.6025</td>\n",
              "      <td>0.1455</td>\n",
              "      <td>0.292102</td>\n",
              "      <td>1.059285</td>\n",
              "      <td>0.749866</td>\n",
              "      <td>34.546369</td>\n",
              "      <td>247.860565</td>\n",
              "      <td>249.476426</td>\n",
              "      <td>76.239413</td>\n",
              "      <td>1.368704</td>\n",
              "      <td>0.904034</td>\n",
              "      <td>398.215030</td>\n",
              "      <td>22.537107</td>\n",
              "      <td>APO</td>\n",
              "    </tr>\n",
              "    <tr>\n",
              "      <th>54017232</th>\n",
              "      <td>26.419</td>\n",
              "      <td>0.6025</td>\n",
              "      <td>0.1455</td>\n",
              "      <td>0.133246</td>\n",
              "      <td>1.065046</td>\n",
              "      <td>0.923133</td>\n",
              "      <td>4.922687</td>\n",
              "      <td>60.470005</td>\n",
              "      <td>106.428094</td>\n",
              "      <td>67.343617</td>\n",
              "      <td>1.206958</td>\n",
              "      <td>0.896709</td>\n",
              "      <td>401.467813</td>\n",
              "      <td>0.983884</td>\n",
              "      <td>APO</td>\n",
              "    </tr>\n",
              "  </tbody>\n",
              "</table>\n",
              "</div>"
            ],
            "text/plain": [
              "               H  diameter  albedo  ...          per    moid_ld  class\n",
              "spkid                               ...                               \n",
              "54017228  26.141    0.6025  0.1455  ...   742.212726   2.371080    APO\n",
              "54017229  27.898    0.6025  0.1455  ...   523.943978   2.093544    APO\n",
              "54017230  26.980    0.6025  0.1455  ...  1171.936620   1.515833    APO\n",
              "54017231  21.510    0.6025  0.1455  ...   398.215030  22.537107    APO\n",
              "54017232  26.419    0.6025  0.1455  ...   401.467813   0.983884    APO\n",
              "\n",
              "[5 rows x 15 columns]"
            ]
          },
          "metadata": {
            "tags": []
          },
          "execution_count": 33
        }
      ]
    },
    {
      "cell_type": "code",
      "metadata": {
        "colab": {
          "base_uri": "https://localhost:8080/"
        },
        "id": "ar4TKIA5T-7I",
        "outputId": "a6ac8e19-d59d-4d67-a2d6-45b99b814b75"
      },
      "source": [
        "dataframe.isnull().sum()"
      ],
      "execution_count": null,
      "outputs": [
        {
          "output_type": "execute_result",
          "data": {
            "text/plain": [
              "H            0\n",
              "diameter    26\n",
              "albedo      26\n",
              "e            0\n",
              "a            0\n",
              "q            0\n",
              "i            0\n",
              "om           0\n",
              "w            0\n",
              "ma           0\n",
              "ad           4\n",
              "n            0\n",
              "per          4\n",
              "moid_ld      0\n",
              "class        0\n",
              "dtype: int64"
            ]
          },
          "metadata": {
            "tags": []
          },
          "execution_count": 34
        }
      ]
    },
    {
      "cell_type": "code",
      "metadata": {
        "id": "mCBP5liNT-7J"
      },
      "source": [
        "dataframe[['diameter','albedo','ad','per']]=dataframe[['diameter','albedo','ad','per']].fillna(value=dataframe[['diameter','albedo','ad','per']].median())"
      ],
      "execution_count": null,
      "outputs": []
    },
    {
      "cell_type": "code",
      "metadata": {
        "colab": {
          "base_uri": "https://localhost:8080/"
        },
        "id": "tjDLOFBZT-7J",
        "outputId": "7ca5431b-54b3-4e0a-9ad2-5198d00b7354"
      },
      "source": [
        "dataframe.isnull().sum()"
      ],
      "execution_count": null,
      "outputs": [
        {
          "output_type": "execute_result",
          "data": {
            "text/plain": [
              "H           0\n",
              "diameter    0\n",
              "albedo      0\n",
              "e           0\n",
              "a           0\n",
              "q           0\n",
              "i           0\n",
              "om          0\n",
              "w           0\n",
              "ma          0\n",
              "ad          0\n",
              "n           0\n",
              "per         0\n",
              "moid_ld     0\n",
              "class       0\n",
              "dtype: int64"
            ]
          },
          "metadata": {
            "tags": []
          },
          "execution_count": 36
        }
      ]
    },
    {
      "cell_type": "code",
      "metadata": {
        "id": "VAiuROiaT-7J"
      },
      "source": [
        "import matplotlib.pyplot as plt\n",
        "%matplotlib inline\n",
        "import seaborn as sns\n",
        "sns.set()"
      ],
      "execution_count": null,
      "outputs": []
    },
    {
      "cell_type": "code",
      "metadata": {
        "id": "7bD3vdPfT-7J"
      },
      "source": [
        "correlation=dataframe.corr()"
      ],
      "execution_count": null,
      "outputs": []
    },
    {
      "cell_type": "code",
      "metadata": {
        "colab": {
          "base_uri": "https://localhost:8080/",
          "height": 489
        },
        "id": "v-BxG2SvT-7J",
        "outputId": "a717b42d-62bb-4a94-b3ab-74e9786c8dd8"
      },
      "source": [
        "correlation"
      ],
      "execution_count": null,
      "outputs": [
        {
          "output_type": "execute_result",
          "data": {
            "text/html": [
              "<div>\n",
              "<style scoped>\n",
              "    .dataframe tbody tr th:only-of-type {\n",
              "        vertical-align: middle;\n",
              "    }\n",
              "\n",
              "    .dataframe tbody tr th {\n",
              "        vertical-align: top;\n",
              "    }\n",
              "\n",
              "    .dataframe thead th {\n",
              "        text-align: right;\n",
              "    }\n",
              "</style>\n",
              "<table border=\"1\" class=\"dataframe\">\n",
              "  <thead>\n",
              "    <tr style=\"text-align: right;\">\n",
              "      <th></th>\n",
              "      <th>H</th>\n",
              "      <th>diameter</th>\n",
              "      <th>albedo</th>\n",
              "      <th>e</th>\n",
              "      <th>a</th>\n",
              "      <th>q</th>\n",
              "      <th>i</th>\n",
              "      <th>om</th>\n",
              "      <th>w</th>\n",
              "      <th>ma</th>\n",
              "      <th>ad</th>\n",
              "      <th>n</th>\n",
              "      <th>per</th>\n",
              "      <th>moid_ld</th>\n",
              "    </tr>\n",
              "  </thead>\n",
              "  <tbody>\n",
              "    <tr>\n",
              "      <th>H</th>\n",
              "      <td>1.000000</td>\n",
              "      <td>-0.459324</td>\n",
              "      <td>0.031089</td>\n",
              "      <td>0.344027</td>\n",
              "      <td>-0.032204</td>\n",
              "      <td>-0.437553</td>\n",
              "      <td>-0.097735</td>\n",
              "      <td>0.000835</td>\n",
              "      <td>-0.003393</td>\n",
              "      <td>-0.033667</td>\n",
              "      <td>-0.024352</td>\n",
              "      <td>0.588762</td>\n",
              "      <td>-0.004487</td>\n",
              "      <td>-0.435391</td>\n",
              "    </tr>\n",
              "    <tr>\n",
              "      <th>diameter</th>\n",
              "      <td>-0.459324</td>\n",
              "      <td>1.000000</td>\n",
              "      <td>-0.125696</td>\n",
              "      <td>-0.053131</td>\n",
              "      <td>0.058647</td>\n",
              "      <td>0.585610</td>\n",
              "      <td>0.045265</td>\n",
              "      <td>-0.004997</td>\n",
              "      <td>0.000563</td>\n",
              "      <td>0.004867</td>\n",
              "      <td>0.047404</td>\n",
              "      <td>-0.279425</td>\n",
              "      <td>0.013581</td>\n",
              "      <td>0.583244</td>\n",
              "    </tr>\n",
              "    <tr>\n",
              "      <th>albedo</th>\n",
              "      <td>0.031089</td>\n",
              "      <td>-0.125696</td>\n",
              "      <td>1.000000</td>\n",
              "      <td>0.000836</td>\n",
              "      <td>-0.007589</td>\n",
              "      <td>-0.096690</td>\n",
              "      <td>0.194051</td>\n",
              "      <td>0.013163</td>\n",
              "      <td>-0.001289</td>\n",
              "      <td>0.008890</td>\n",
              "      <td>-0.005674</td>\n",
              "      <td>0.339577</td>\n",
              "      <td>-0.001070</td>\n",
              "      <td>-0.091031</td>\n",
              "    </tr>\n",
              "    <tr>\n",
              "      <th>e</th>\n",
              "      <td>0.344027</td>\n",
              "      <td>-0.053131</td>\n",
              "      <td>0.000836</td>\n",
              "      <td>1.000000</td>\n",
              "      <td>0.014725</td>\n",
              "      <td>-0.119463</td>\n",
              "      <td>0.128171</td>\n",
              "      <td>0.003173</td>\n",
              "      <td>0.008671</td>\n",
              "      <td>-0.025741</td>\n",
              "      <td>0.025759</td>\n",
              "      <td>0.196245</td>\n",
              "      <td>0.012072</td>\n",
              "      <td>-0.107549</td>\n",
              "    </tr>\n",
              "    <tr>\n",
              "      <th>a</th>\n",
              "      <td>-0.032204</td>\n",
              "      <td>0.058647</td>\n",
              "      <td>-0.007589</td>\n",
              "      <td>0.014725</td>\n",
              "      <td>1.000000</td>\n",
              "      <td>0.074253</td>\n",
              "      <td>0.025212</td>\n",
              "      <td>-0.001993</td>\n",
              "      <td>-0.001237</td>\n",
              "      <td>0.001673</td>\n",
              "      <td>0.904901</td>\n",
              "      <td>-0.025440</td>\n",
              "      <td>0.888618</td>\n",
              "      <td>0.074082</td>\n",
              "    </tr>\n",
              "    <tr>\n",
              "      <th>q</th>\n",
              "      <td>-0.437553</td>\n",
              "      <td>0.585610</td>\n",
              "      <td>-0.096690</td>\n",
              "      <td>-0.119463</td>\n",
              "      <td>0.074253</td>\n",
              "      <td>1.000000</td>\n",
              "      <td>0.035545</td>\n",
              "      <td>-0.011010</td>\n",
              "      <td>-0.002149</td>\n",
              "      <td>-0.002272</td>\n",
              "      <td>0.053731</td>\n",
              "      <td>-0.328325</td>\n",
              "      <td>0.005505</td>\n",
              "      <td>0.995643</td>\n",
              "    </tr>\n",
              "    <tr>\n",
              "      <th>i</th>\n",
              "      <td>-0.097735</td>\n",
              "      <td>0.045265</td>\n",
              "      <td>0.194051</td>\n",
              "      <td>0.128171</td>\n",
              "      <td>0.025212</td>\n",
              "      <td>0.035545</td>\n",
              "      <td>1.000000</td>\n",
              "      <td>-0.016534</td>\n",
              "      <td>-0.003157</td>\n",
              "      <td>0.004420</td>\n",
              "      <td>0.037841</td>\n",
              "      <td>-0.012026</td>\n",
              "      <td>0.026036</td>\n",
              "      <td>0.043586</td>\n",
              "    </tr>\n",
              "    <tr>\n",
              "      <th>om</th>\n",
              "      <td>0.000835</td>\n",
              "      <td>-0.004997</td>\n",
              "      <td>0.013163</td>\n",
              "      <td>0.003173</td>\n",
              "      <td>-0.001993</td>\n",
              "      <td>-0.011010</td>\n",
              "      <td>-0.016534</td>\n",
              "      <td>1.000000</td>\n",
              "      <td>-0.138383</td>\n",
              "      <td>-0.000901</td>\n",
              "      <td>-0.001755</td>\n",
              "      <td>0.008162</td>\n",
              "      <td>-0.001423</td>\n",
              "      <td>-0.011027</td>\n",
              "    </tr>\n",
              "    <tr>\n",
              "      <th>w</th>\n",
              "      <td>-0.003393</td>\n",
              "      <td>0.000563</td>\n",
              "      <td>-0.001289</td>\n",
              "      <td>0.008671</td>\n",
              "      <td>-0.001237</td>\n",
              "      <td>-0.002149</td>\n",
              "      <td>-0.003157</td>\n",
              "      <td>-0.138383</td>\n",
              "      <td>1.000000</td>\n",
              "      <td>-0.006368</td>\n",
              "      <td>-0.001122</td>\n",
              "      <td>0.002910</td>\n",
              "      <td>-0.001237</td>\n",
              "      <td>-0.001985</td>\n",
              "    </tr>\n",
              "    <tr>\n",
              "      <th>ma</th>\n",
              "      <td>-0.033667</td>\n",
              "      <td>0.004867</td>\n",
              "      <td>0.008890</td>\n",
              "      <td>-0.025741</td>\n",
              "      <td>0.001673</td>\n",
              "      <td>-0.002272</td>\n",
              "      <td>0.004420</td>\n",
              "      <td>-0.000901</td>\n",
              "      <td>-0.006368</td>\n",
              "      <td>1.000000</td>\n",
              "      <td>0.000835</td>\n",
              "      <td>-0.006825</td>\n",
              "      <td>0.001830</td>\n",
              "      <td>-0.003235</td>\n",
              "    </tr>\n",
              "    <tr>\n",
              "      <th>ad</th>\n",
              "      <td>-0.024352</td>\n",
              "      <td>0.047404</td>\n",
              "      <td>-0.005674</td>\n",
              "      <td>0.025759</td>\n",
              "      <td>0.904901</td>\n",
              "      <td>0.053731</td>\n",
              "      <td>0.037841</td>\n",
              "      <td>-0.001755</td>\n",
              "      <td>-0.001122</td>\n",
              "      <td>0.000835</td>\n",
              "      <td>1.000000</td>\n",
              "      <td>-0.020299</td>\n",
              "      <td>0.983417</td>\n",
              "      <td>0.053767</td>\n",
              "    </tr>\n",
              "    <tr>\n",
              "      <th>n</th>\n",
              "      <td>0.588762</td>\n",
              "      <td>-0.279425</td>\n",
              "      <td>0.339577</td>\n",
              "      <td>0.196245</td>\n",
              "      <td>-0.025440</td>\n",
              "      <td>-0.328325</td>\n",
              "      <td>-0.012026</td>\n",
              "      <td>0.008162</td>\n",
              "      <td>0.002910</td>\n",
              "      <td>-0.006825</td>\n",
              "      <td>-0.020299</td>\n",
              "      <td>1.000000</td>\n",
              "      <td>-0.004601</td>\n",
              "      <td>-0.316103</td>\n",
              "    </tr>\n",
              "    <tr>\n",
              "      <th>per</th>\n",
              "      <td>-0.004487</td>\n",
              "      <td>0.013581</td>\n",
              "      <td>-0.001070</td>\n",
              "      <td>0.012072</td>\n",
              "      <td>0.888618</td>\n",
              "      <td>0.005505</td>\n",
              "      <td>0.026036</td>\n",
              "      <td>-0.001423</td>\n",
              "      <td>-0.001237</td>\n",
              "      <td>0.001830</td>\n",
              "      <td>0.983417</td>\n",
              "      <td>-0.004601</td>\n",
              "      <td>1.000000</td>\n",
              "      <td>0.005549</td>\n",
              "    </tr>\n",
              "    <tr>\n",
              "      <th>moid_ld</th>\n",
              "      <td>-0.435391</td>\n",
              "      <td>0.583244</td>\n",
              "      <td>-0.091031</td>\n",
              "      <td>-0.107549</td>\n",
              "      <td>0.074082</td>\n",
              "      <td>0.995643</td>\n",
              "      <td>0.043586</td>\n",
              "      <td>-0.011027</td>\n",
              "      <td>-0.001985</td>\n",
              "      <td>-0.003235</td>\n",
              "      <td>0.053767</td>\n",
              "      <td>-0.316103</td>\n",
              "      <td>0.005549</td>\n",
              "      <td>1.000000</td>\n",
              "    </tr>\n",
              "  </tbody>\n",
              "</table>\n",
              "</div>"
            ],
            "text/plain": [
              "                 H  diameter    albedo  ...         n       per   moid_ld\n",
              "H         1.000000 -0.459324  0.031089  ...  0.588762 -0.004487 -0.435391\n",
              "diameter -0.459324  1.000000 -0.125696  ... -0.279425  0.013581  0.583244\n",
              "albedo    0.031089 -0.125696  1.000000  ...  0.339577 -0.001070 -0.091031\n",
              "e         0.344027 -0.053131  0.000836  ...  0.196245  0.012072 -0.107549\n",
              "a        -0.032204  0.058647 -0.007589  ... -0.025440  0.888618  0.074082\n",
              "q        -0.437553  0.585610 -0.096690  ... -0.328325  0.005505  0.995643\n",
              "i        -0.097735  0.045265  0.194051  ... -0.012026  0.026036  0.043586\n",
              "om        0.000835 -0.004997  0.013163  ...  0.008162 -0.001423 -0.011027\n",
              "w        -0.003393  0.000563 -0.001289  ...  0.002910 -0.001237 -0.001985\n",
              "ma       -0.033667  0.004867  0.008890  ... -0.006825  0.001830 -0.003235\n",
              "ad       -0.024352  0.047404 -0.005674  ... -0.020299  0.983417  0.053767\n",
              "n         0.588762 -0.279425  0.339577  ...  1.000000 -0.004601 -0.316103\n",
              "per      -0.004487  0.013581 -0.001070  ... -0.004601  1.000000  0.005549\n",
              "moid_ld  -0.435391  0.583244 -0.091031  ... -0.316103  0.005549  1.000000\n",
              "\n",
              "[14 rows x 14 columns]"
            ]
          },
          "metadata": {
            "tags": []
          },
          "execution_count": 39
        }
      ]
    },
    {
      "cell_type": "code",
      "metadata": {
        "colab": {
          "base_uri": "https://localhost:8080/",
          "height": 330
        },
        "id": "8UpF_RdyT-7J",
        "outputId": "7372f952-a025-406e-e24e-e380035fc0ee"
      },
      "source": [
        "sns.heatmap(dataframe.corr(),cmap='coolwarm',annot=True)"
      ],
      "execution_count": null,
      "outputs": [
        {
          "output_type": "execute_result",
          "data": {
            "text/plain": [
              "<matplotlib.axes._subplots.AxesSubplot at 0x7fc467bb52e8>"
            ]
          },
          "metadata": {
            "tags": []
          },
          "execution_count": 40
        },
        {
          "output_type": "display_data",
          "data": {
            "image/png": "[encoded data removed]",
            "text/plain": [
              "<Figure size 432x288 with 2 Axes>"
            ]
          },
          "metadata": {
            "tags": []
          }
        }
      ]
    },
    {
      "cell_type": "code",
      "metadata": {
        "colab": {
          "base_uri": "https://localhost:8080/",
          "height": 320
        },
        "id": "WMfC2npWT-7K",
        "outputId": "1ff3c55c-093d-4a26-83ea-014d84886265"
      },
      "source": [
        "dataframe.describe()"
      ],
      "execution_count": null,
      "outputs": [
        {
          "output_type": "execute_result",
          "data": {
            "text/html": [
              "<div>\n",
              "<style scoped>\n",
              "    .dataframe tbody tr th:only-of-type {\n",
              "        vertical-align: middle;\n",
              "    }\n",
              "\n",
              "    .dataframe tbody tr th {\n",
              "        vertical-align: top;\n",
              "    }\n",
              "\n",
              "    .dataframe thead th {\n",
              "        text-align: right;\n",
              "    }\n",
              "</style>\n",
              "<table border=\"1\" class=\"dataframe\">\n",
              "  <thead>\n",
              "    <tr style=\"text-align: right;\">\n",
              "      <th></th>\n",
              "      <th>H</th>\n",
              "      <th>diameter</th>\n",
              "      <th>albedo</th>\n",
              "      <th>e</th>\n",
              "      <th>a</th>\n",
              "      <th>q</th>\n",
              "      <th>i</th>\n",
              "      <th>om</th>\n",
              "      <th>w</th>\n",
              "      <th>ma</th>\n",
              "      <th>ad</th>\n",
              "      <th>n</th>\n",
              "      <th>per</th>\n",
              "      <th>moid_ld</th>\n",
              "    </tr>\n",
              "  </thead>\n",
              "  <tbody>\n",
              "    <tr>\n",
              "      <th>count</th>\n",
              "      <td>958524.000000</td>\n",
              "      <td>958524.000000</td>\n",
              "      <td>958524.000000</td>\n",
              "      <td>958524.000000</td>\n",
              "      <td>958524.000000</td>\n",
              "      <td>958524.000000</td>\n",
              "      <td>958524.000000</td>\n",
              "      <td>958524.000000</td>\n",
              "      <td>958524.000000</td>\n",
              "      <td>958524.000000</td>\n",
              "      <td>958524.000000</td>\n",
              "      <td>9.585240e+05</td>\n",
              "      <td>9.585240e+05</td>\n",
              "      <td>958524.000000</td>\n",
              "    </tr>\n",
              "    <tr>\n",
              "      <th>mean</th>\n",
              "      <td>16.906900</td>\n",
              "      <td>4.237582</td>\n",
              "      <td>0.095562</td>\n",
              "      <td>0.156116</td>\n",
              "      <td>2.902143</td>\n",
              "      <td>2.394887</td>\n",
              "      <td>9.054901</td>\n",
              "      <td>168.456416</td>\n",
              "      <td>181.369457</td>\n",
              "      <td>177.352511</td>\n",
              "      <td>3.455819</td>\n",
              "      <td>2.366846e-01</td>\n",
              "      <td>5.085329e+03</td>\n",
              "      <td>539.422079</td>\n",
              "    </tr>\n",
              "    <tr>\n",
              "      <th>std</th>\n",
              "      <td>1.785576</td>\n",
              "      <td>4.551837</td>\n",
              "      <td>0.060440</td>\n",
              "      <td>0.092643</td>\n",
              "      <td>39.719503</td>\n",
              "      <td>2.139246</td>\n",
              "      <td>6.637656</td>\n",
              "      <td>102.881707</td>\n",
              "      <td>103.887995</td>\n",
              "      <td>105.816811</td>\n",
              "      <td>71.769252</td>\n",
              "      <td>7.941705e-02</td>\n",
              "      <td>2.308956e+06</td>\n",
              "      <td>834.839922</td>\n",
              "    </tr>\n",
              "    <tr>\n",
              "      <th>min</th>\n",
              "      <td>-1.100000</td>\n",
              "      <td>0.002500</td>\n",
              "      <td>0.001000</td>\n",
              "      <td>0.000000</td>\n",
              "      <td>-14702.447872</td>\n",
              "      <td>0.070511</td>\n",
              "      <td>0.007744</td>\n",
              "      <td>0.000025</td>\n",
              "      <td>0.000130</td>\n",
              "      <td>-70.703676</td>\n",
              "      <td>0.653773</td>\n",
              "      <td>1.608247e-07</td>\n",
              "      <td>1.511918e+02</td>\n",
              "      <td>0.000000</td>\n",
              "    </tr>\n",
              "    <tr>\n",
              "      <th>25%</th>\n",
              "      <td>16.100000</td>\n",
              "      <td>3.850000</td>\n",
              "      <td>0.081000</td>\n",
              "      <td>0.092193</td>\n",
              "      <td>2.387835</td>\n",
              "      <td>1.971401</td>\n",
              "      <td>4.165419</td>\n",
              "      <td>80.604399</td>\n",
              "      <td>91.482063</td>\n",
              "      <td>83.785037</td>\n",
              "      <td>2.781604</td>\n",
              "      <td>1.894969e-01</td>\n",
              "      <td>1.347739e+03</td>\n",
              "      <td>375.391728</td>\n",
              "    </tr>\n",
              "    <tr>\n",
              "      <th>50%</th>\n",
              "      <td>16.900000</td>\n",
              "      <td>3.850000</td>\n",
              "      <td>0.081000</td>\n",
              "      <td>0.145002</td>\n",
              "      <td>2.646969</td>\n",
              "      <td>2.225816</td>\n",
              "      <td>7.415665</td>\n",
              "      <td>159.826919</td>\n",
              "      <td>182.358081</td>\n",
              "      <td>175.640941</td>\n",
              "      <td>3.046995</td>\n",
              "      <td>2.288655e-01</td>\n",
              "      <td>1.572976e+03</td>\n",
              "      <td>477.717850</td>\n",
              "    </tr>\n",
              "    <tr>\n",
              "      <th>75%</th>\n",
              "      <td>17.700000</td>\n",
              "      <td>3.850000</td>\n",
              "      <td>0.081000</td>\n",
              "      <td>0.200650</td>\n",
              "      <td>3.001932</td>\n",
              "      <td>2.578315</td>\n",
              "      <td>12.407550</td>\n",
              "      <td>252.247751</td>\n",
              "      <td>271.521589</td>\n",
              "      <td>269.865669</td>\n",
              "      <td>3.364792</td>\n",
              "      <td>2.671142e-01</td>\n",
              "      <td>1.899765e+03</td>\n",
              "      <td>617.309237</td>\n",
              "    </tr>\n",
              "    <tr>\n",
              "      <th>max</th>\n",
              "      <td>33.200000</td>\n",
              "      <td>939.400000</td>\n",
              "      <td>1.000000</td>\n",
              "      <td>1.855356</td>\n",
              "      <td>33488.895955</td>\n",
              "      <td>80.398819</td>\n",
              "      <td>175.082901</td>\n",
              "      <td>359.999793</td>\n",
              "      <td>359.999646</td>\n",
              "      <td>491.618014</td>\n",
              "      <td>66972.796064</td>\n",
              "      <td>2.381082e+00</td>\n",
              "      <td>2.238462e+09</td>\n",
              "      <td>30929.908422</td>\n",
              "    </tr>\n",
              "  </tbody>\n",
              "</table>\n",
              "</div>"
            ],
            "text/plain": [
              "                   H       diameter  ...           per        moid_ld\n",
              "count  958524.000000  958524.000000  ...  9.585240e+05  958524.000000\n",
              "mean       16.906900       4.237582  ...  5.085329e+03     539.422079\n",
              "std         1.785576       4.551837  ...  2.308956e+06     834.839922\n",
              "min        -1.100000       0.002500  ...  1.511918e+02       0.000000\n",
              "25%        16.100000       3.850000  ...  1.347739e+03     375.391728\n",
              "50%        16.900000       3.850000  ...  1.572976e+03     477.717850\n",
              "75%        17.700000       3.850000  ...  1.899765e+03     617.309237\n",
              "max        33.200000     939.400000  ...  2.238462e+09   30929.908422\n",
              "\n",
              "[8 rows x 14 columns]"
            ]
          },
          "metadata": {
            "tags": []
          },
          "execution_count": 41
        }
      ]
    },
    {
      "cell_type": "code",
      "metadata": {
        "id": "Mw_6upc6T-7K"
      },
      "source": [
        "df_asteroid=dataframe[['class','diameter']]"
      ],
      "execution_count": null,
      "outputs": []
    },
    {
      "cell_type": "code",
      "metadata": {
        "colab": {
          "base_uri": "https://localhost:8080/",
          "height": 238
        },
        "id": "V9Nam6PGT-7K",
        "outputId": "b95202d0-86df-4318-982c-16358386d1e0"
      },
      "source": [
        "df_asteroid.head(5)"
      ],
      "execution_count": null,
      "outputs": [
        {
          "output_type": "execute_result",
          "data": {
            "text/html": [
              "<div>\n",
              "<style scoped>\n",
              "    .dataframe tbody tr th:only-of-type {\n",
              "        vertical-align: middle;\n",
              "    }\n",
              "\n",
              "    .dataframe tbody tr th {\n",
              "        vertical-align: top;\n",
              "    }\n",
              "\n",
              "    .dataframe thead th {\n",
              "        text-align: right;\n",
              "    }\n",
              "</style>\n",
              "<table border=\"1\" class=\"dataframe\">\n",
              "  <thead>\n",
              "    <tr style=\"text-align: right;\">\n",
              "      <th></th>\n",
              "      <th>class</th>\n",
              "      <th>diameter</th>\n",
              "    </tr>\n",
              "    <tr>\n",
              "      <th>spkid</th>\n",
              "      <th></th>\n",
              "      <th></th>\n",
              "    </tr>\n",
              "  </thead>\n",
              "  <tbody>\n",
              "    <tr>\n",
              "      <th>2000001</th>\n",
              "      <td>MBA</td>\n",
              "      <td>939.400</td>\n",
              "    </tr>\n",
              "    <tr>\n",
              "      <th>2000002</th>\n",
              "      <td>MBA</td>\n",
              "      <td>545.000</td>\n",
              "    </tr>\n",
              "    <tr>\n",
              "      <th>2000003</th>\n",
              "      <td>MBA</td>\n",
              "      <td>246.596</td>\n",
              "    </tr>\n",
              "    <tr>\n",
              "      <th>2000004</th>\n",
              "      <td>MBA</td>\n",
              "      <td>525.400</td>\n",
              "    </tr>\n",
              "    <tr>\n",
              "      <th>2000005</th>\n",
              "      <td>MBA</td>\n",
              "      <td>106.699</td>\n",
              "    </tr>\n",
              "  </tbody>\n",
              "</table>\n",
              "</div>"
            ],
            "text/plain": [
              "        class  diameter\n",
              "spkid                  \n",
              "2000001   MBA   939.400\n",
              "2000002   MBA   545.000\n",
              "2000003   MBA   246.596\n",
              "2000004   MBA   525.400\n",
              "2000005   MBA   106.699"
            ]
          },
          "metadata": {
            "tags": []
          },
          "execution_count": 43
        }
      ]
    },
    {
      "cell_type": "code",
      "metadata": {
        "colab": {
          "base_uri": "https://localhost:8080/",
          "height": 862
        },
        "id": "pJxX1IicT-7L",
        "outputId": "6ee97c5e-c0a8-4978-b05e-0e6ea6fca7cd"
      },
      "source": [
        "df_asteroid.groupby('class')['diameter'].mean().plot(kind='pie',figsize=(20,15),title='Mean Diameter of Asteroids')\n",
        "plt.show()"
      ],
      "execution_count": null,
      "outputs": [
        {
          "output_type": "display_data",
          "data": {
            "image/png": "[encoded data removed]",
            "text/plain": [
              "<Figure size 1440x1080 with 1 Axes>"
            ]
          },
          "metadata": {
            "tags": []
          }
        }
      ]
    },
    {
      "cell_type": "code",
      "metadata": {
        "colab": {
          "base_uri": "https://localhost:8080/",
          "height": 914
        },
        "id": "BHRN-REbT-7L",
        "outputId": "acda79df-abc5-48fc-edef-f9d4b074e0f1"
      },
      "source": [
        "df_asteroid.groupby('class')['diameter'].mean().plot(kind='bar',figsize=(20,15),title='Mean Diameter of Asteroids')\n",
        "plt.show()"
      ],
      "execution_count": null,
      "outputs": [
        {
          "output_type": "display_data",
          "data": {
            "image/png": "[encoded data removed]",
            "text/plain": [
              "<Figure size 1440x1080 with 1 Axes>"
            ]
          },
          "metadata": {
            "tags": []
          }
        }
      ]
    },
    {
      "cell_type": "code",
      "metadata": {
        "id": "Jk2YsnYiT-7L"
      },
      "source": [
        "from sklearn.preprocessing import LabelEncoder\n",
        "labelencoder = LabelEncoder()"
      ],
      "execution_count": null,
      "outputs": []
    },
    {
      "cell_type": "code",
      "metadata": {
        "id": "guf2k9M2T-7L"
      },
      "source": [
        "dataframe['class_cat']=labelencoder.fit_transform(dataframe['class'])"
      ],
      "execution_count": null,
      "outputs": []
    },
    {
      "cell_type": "code",
      "metadata": {
        "colab": {
          "base_uri": "https://localhost:8080/",
          "height": 258
        },
        "id": "n4Cv6QwET-7L",
        "outputId": "77ba43ee-e6ce-4693-a4f1-322ed9bcfeab"
      },
      "source": [
        "dataframe.head(5)"
      ],
      "execution_count": null,
      "outputs": [
        {
          "output_type": "execute_result",
          "data": {
            "text/html": [
              "<div>\n",
              "<style scoped>\n",
              "    .dataframe tbody tr th:only-of-type {\n",
              "        vertical-align: middle;\n",
              "    }\n",
              "\n",
              "    .dataframe tbody tr th {\n",
              "        vertical-align: top;\n",
              "    }\n",
              "\n",
              "    .dataframe thead th {\n",
              "        text-align: right;\n",
              "    }\n",
              "</style>\n",
              "<table border=\"1\" class=\"dataframe\">\n",
              "  <thead>\n",
              "    <tr style=\"text-align: right;\">\n",
              "      <th></th>\n",
              "      <th>H</th>\n",
              "      <th>diameter</th>\n",
              "      <th>albedo</th>\n",
              "      <th>e</th>\n",
              "      <th>a</th>\n",
              "      <th>q</th>\n",
              "      <th>i</th>\n",
              "      <th>om</th>\n",
              "      <th>w</th>\n",
              "      <th>ma</th>\n",
              "      <th>ad</th>\n",
              "      <th>n</th>\n",
              "      <th>per</th>\n",
              "      <th>moid_ld</th>\n",
              "      <th>class</th>\n",
              "      <th>class_cat</th>\n",
              "    </tr>\n",
              "    <tr>\n",
              "      <th>spkid</th>\n",
              "      <th></th>\n",
              "      <th></th>\n",
              "      <th></th>\n",
              "      <th></th>\n",
              "      <th></th>\n",
              "      <th></th>\n",
              "      <th></th>\n",
              "      <th></th>\n",
              "      <th></th>\n",
              "      <th></th>\n",
              "      <th></th>\n",
              "      <th></th>\n",
              "      <th></th>\n",
              "      <th></th>\n",
              "      <th></th>\n",
              "      <th></th>\n",
              "    </tr>\n",
              "  </thead>\n",
              "  <tbody>\n",
              "    <tr>\n",
              "      <th>2000001</th>\n",
              "      <td>3.40</td>\n",
              "      <td>939.400</td>\n",
              "      <td>0.0900</td>\n",
              "      <td>0.076009</td>\n",
              "      <td>2.769165</td>\n",
              "      <td>2.558684</td>\n",
              "      <td>10.594067</td>\n",
              "      <td>80.305531</td>\n",
              "      <td>73.597695</td>\n",
              "      <td>77.372098</td>\n",
              "      <td>2.979647</td>\n",
              "      <td>0.213885</td>\n",
              "      <td>1683.145703</td>\n",
              "      <td>620.640533</td>\n",
              "      <td>MBA</td>\n",
              "      <td>8</td>\n",
              "    </tr>\n",
              "    <tr>\n",
              "      <th>2000002</th>\n",
              "      <td>4.20</td>\n",
              "      <td>545.000</td>\n",
              "      <td>0.1010</td>\n",
              "      <td>0.229972</td>\n",
              "      <td>2.773841</td>\n",
              "      <td>2.135935</td>\n",
              "      <td>34.832932</td>\n",
              "      <td>173.024741</td>\n",
              "      <td>310.202392</td>\n",
              "      <td>144.975675</td>\n",
              "      <td>3.411748</td>\n",
              "      <td>0.213345</td>\n",
              "      <td>1687.410992</td>\n",
              "      <td>480.348639</td>\n",
              "      <td>MBA</td>\n",
              "      <td>8</td>\n",
              "    </tr>\n",
              "    <tr>\n",
              "      <th>2000003</th>\n",
              "      <td>5.33</td>\n",
              "      <td>246.596</td>\n",
              "      <td>0.2140</td>\n",
              "      <td>0.256936</td>\n",
              "      <td>2.668285</td>\n",
              "      <td>1.982706</td>\n",
              "      <td>12.991043</td>\n",
              "      <td>169.851482</td>\n",
              "      <td>248.066193</td>\n",
              "      <td>125.435355</td>\n",
              "      <td>3.353865</td>\n",
              "      <td>0.226129</td>\n",
              "      <td>1592.013769</td>\n",
              "      <td>402.514639</td>\n",
              "      <td>MBA</td>\n",
              "      <td>8</td>\n",
              "    </tr>\n",
              "    <tr>\n",
              "      <th>2000004</th>\n",
              "      <td>3.00</td>\n",
              "      <td>525.400</td>\n",
              "      <td>0.4228</td>\n",
              "      <td>0.088721</td>\n",
              "      <td>2.361418</td>\n",
              "      <td>2.151909</td>\n",
              "      <td>7.141771</td>\n",
              "      <td>103.810804</td>\n",
              "      <td>150.728541</td>\n",
              "      <td>95.861938</td>\n",
              "      <td>2.570926</td>\n",
              "      <td>0.271609</td>\n",
              "      <td>1325.432763</td>\n",
              "      <td>443.451432</td>\n",
              "      <td>MBA</td>\n",
              "      <td>8</td>\n",
              "    </tr>\n",
              "    <tr>\n",
              "      <th>2000005</th>\n",
              "      <td>6.90</td>\n",
              "      <td>106.699</td>\n",
              "      <td>0.2740</td>\n",
              "      <td>0.190913</td>\n",
              "      <td>2.574037</td>\n",
              "      <td>2.082619</td>\n",
              "      <td>5.367427</td>\n",
              "      <td>141.571026</td>\n",
              "      <td>358.648418</td>\n",
              "      <td>17.846343</td>\n",
              "      <td>3.065455</td>\n",
              "      <td>0.238661</td>\n",
              "      <td>1508.414421</td>\n",
              "      <td>426.433028</td>\n",
              "      <td>MBA</td>\n",
              "      <td>8</td>\n",
              "    </tr>\n",
              "  </tbody>\n",
              "</table>\n",
              "</div>"
            ],
            "text/plain": [
              "            H  diameter  albedo  ...     moid_ld  class  class_cat\n",
              "spkid                            ...                              \n",
              "2000001  3.40   939.400  0.0900  ...  620.640533    MBA          8\n",
              "2000002  4.20   545.000  0.1010  ...  480.348639    MBA          8\n",
              "2000003  5.33   246.596  0.2140  ...  402.514639    MBA          8\n",
              "2000004  3.00   525.400  0.4228  ...  443.451432    MBA          8\n",
              "2000005  6.90   106.699  0.2740  ...  426.433028    MBA          8\n",
              "\n",
              "[5 rows x 16 columns]"
            ]
          },
          "metadata": {
            "tags": []
          },
          "execution_count": 48
        }
      ]
    },
    {
      "cell_type": "code",
      "metadata": {
        "colab": {
          "base_uri": "https://localhost:8080/"
        },
        "id": "sa9DKYksT-7L",
        "outputId": "276ebb0a-3907-4226-b2c7-154518016212"
      },
      "source": [
        "dataframe['class_cat'].value_counts()"
      ],
      "execution_count": null,
      "outputs": [
        {
          "output_type": "execute_result",
          "data": {
            "text/plain": [
              "8     855954\n",
              "10     28355\n",
              "7      20360\n",
              "9      18685\n",
              "1      12687\n",
              "0       8457\n",
              "11      8221\n",
              "12      3468\n",
              "3       1729\n",
              "4        506\n",
              "2         76\n",
              "6         22\n",
              "5          4\n",
              "Name: class_cat, dtype: int64"
            ]
          },
          "metadata": {
            "tags": []
          },
          "execution_count": 49
        }
      ]
    },
    {
      "cell_type": "code",
      "metadata": {
        "id": "vlg2bSMuT-7L"
      },
      "source": [
        "X=dataframe.drop(['class','class_cat'],axis=1)"
      ],
      "execution_count": null,
      "outputs": []
    },
    {
      "cell_type": "code",
      "metadata": {
        "id": "wyCiKL8MT-7L"
      },
      "source": [
        "y=dataframe['class_cat']"
      ],
      "execution_count": null,
      "outputs": []
    },
    {
      "cell_type": "code",
      "metadata": {
        "colab": {
          "base_uri": "https://localhost:8080/"
        },
        "id": "40itE-HwT-7L",
        "outputId": "d39e2bce-4656-4ab5-9191-f4a9d06622e6"
      },
      "source": [
        "X.shape"
      ],
      "execution_count": null,
      "outputs": [
        {
          "output_type": "execute_result",
          "data": {
            "text/plain": [
              "(958524, 14)"
            ]
          },
          "metadata": {
            "tags": []
          },
          "execution_count": 52
        }
      ]
    },
    {
      "cell_type": "code",
      "metadata": {
        "colab": {
          "base_uri": "https://localhost:8080/"
        },
        "id": "PObktFSbT-7L",
        "outputId": "5b10e339-dee8-43f3-d9ba-fe72831d4d71"
      },
      "source": [
        "y.shape"
      ],
      "execution_count": null,
      "outputs": [
        {
          "output_type": "execute_result",
          "data": {
            "text/plain": [
              "(958524,)"
            ]
          },
          "metadata": {
            "tags": []
          },
          "execution_count": 53
        }
      ]
    },
    {
      "cell_type": "code",
      "metadata": {
        "id": "9tMDlm_5T-7M"
      },
      "source": [
        "from sklearn.model_selection import train_test_split"
      ],
      "execution_count": null,
      "outputs": []
    },
    {
      "cell_type": "code",
      "metadata": {
        "id": "8cGXUFQLT-7N"
      },
      "source": [
        "X_train, X_test, y_train, y_test = train_test_split(X, y, test_size=0.4, random_state=4)"
      ],
      "execution_count": null,
      "outputs": []
    },
    {
      "cell_type": "code",
      "metadata": {
        "colab": {
          "base_uri": "https://localhost:8080/"
        },
        "id": "WAGNID29T-7N",
        "outputId": "60a104f3-8822-4c5a-b878-286f6242ed6a"
      },
      "source": [
        "print(X_train.shape)\n",
        "print(X_test.shape)"
      ],
      "execution_count": null,
      "outputs": [
        {
          "output_type": "stream",
          "text": [
            "(575114, 14)\n",
            "(383410, 14)\n"
          ],
          "name": "stdout"
        }
      ]
    },
    {
      "cell_type": "code",
      "metadata": {
        "colab": {
          "base_uri": "https://localhost:8080/"
        },
        "id": "J3Mjz-MiT-7N",
        "outputId": "e96d11c0-a1de-4793-d599-c91fd53dcde9"
      },
      "source": [
        "X_test.isnull().sum()"
      ],
      "execution_count": null,
      "outputs": [
        {
          "output_type": "execute_result",
          "data": {
            "text/plain": [
              "H           0\n",
              "diameter    0\n",
              "albedo      0\n",
              "e           0\n",
              "a           0\n",
              "q           0\n",
              "i           0\n",
              "om          0\n",
              "w           0\n",
              "ma          0\n",
              "ad          0\n",
              "n           0\n",
              "per         0\n",
              "moid_ld     0\n",
              "dtype: int64"
            ]
          },
          "metadata": {
            "tags": []
          },
          "execution_count": 57
        }
      ]
    },
    {
      "cell_type": "code",
      "metadata": {
        "id": "tPUAciSdT-7N"
      },
      "source": [
        "from sklearn.model_selection import train_test_split"
      ],
      "execution_count": null,
      "outputs": []
    },
    {
      "cell_type": "code",
      "metadata": {
        "id": "pD72I-a0T-7N"
      },
      "source": [
        "from sklearn.neighbors import KNeighborsClassifier"
      ],
      "execution_count": null,
      "outputs": []
    },
    {
      "cell_type": "code",
      "metadata": {
        "colab": {
          "base_uri": "https://localhost:8080/"
        },
        "id": "1cf01FB1T-7N",
        "outputId": "fecdb745-dd7d-460d-bf3d-4acaf366f0e3"
      },
      "source": [
        "knn = KNeighborsClassifier(n_neighbors=5)\n",
        "knn.fit(X_train, y_train)"
      ],
      "execution_count": null,
      "outputs": [
        {
          "output_type": "execute_result",
          "data": {
            "text/plain": [
              "KNeighborsClassifier(algorithm='auto', leaf_size=30, metric='minkowski',\n",
              "                     metric_params=None, n_jobs=None, n_neighbors=5, p=2,\n",
              "                     weights='uniform')"
            ]
          },
          "metadata": {
            "tags": []
          },
          "execution_count": 60
        }
      ]
    },
    {
      "cell_type": "code",
      "metadata": {
        "colab": {
          "base_uri": "https://localhost:8080/"
        },
        "id": "aK9mj7cUT-7N",
        "outputId": "8f46ebef-7d8d-411a-e29f-3aba2ca95627"
      },
      "source": [
        "y_pred=knn.predict(X_test)\n",
        "from sklearn import metrics\n",
        "print(metrics.accuracy_score(y_test,y_pred))"
      ],
      "execution_count": null,
      "outputs": [
        {
          "output_type": "stream",
          "text": [
            "0.9789624683758901\n"
          ],
          "name": "stdout"
        }
      ]
    },
    {
      "cell_type": "code",
      "metadata": {
        "id": "F5NwVxvzdGfy"
      },
      "source": [
        "from sklearn.tree import DecisionTreeClassifier"
      ],
      "execution_count": null,
      "outputs": []
    },
    {
      "cell_type": "code",
      "metadata": {
        "id": "yqJxiJFbcXZV"
      },
      "source": [
        "tree_clf = DecisionTreeClassifier(max_depth=2,random_state=42)\n",
        "\n"
      ],
      "execution_count": null,
      "outputs": []
    },
    {
      "cell_type": "code",
      "metadata": {
        "colab": {
          "base_uri": "https://localhost:8080/"
        },
        "id": "QygXQ2wBdV5F",
        "outputId": "b9c363a4-1645-4f85-b1f8-b86467ab7170"
      },
      "source": [
        "tree_clf.fit(X, y)"
      ],
      "execution_count": null,
      "outputs": [
        {
          "output_type": "execute_result",
          "data": {
            "text/plain": [
              "DecisionTreeClassifier(ccp_alpha=0.0, class_weight=None, criterion='gini',\n",
              "                       max_depth=2, max_features=None, max_leaf_nodes=None,\n",
              "                       min_impurity_decrease=0.0, min_impurity_split=None,\n",
              "                       min_samples_leaf=1, min_samples_split=2,\n",
              "                       min_weight_fraction_leaf=0.0, presort='deprecated',\n",
              "                       random_state=42, splitter='best')"
            ]
          },
          "metadata": {
            "tags": []
          },
          "execution_count": 64
        }
      ]
    },
    {
      "cell_type": "code",
      "metadata": {
        "id": "hl7-oukkmTOw"
      },
      "source": [
        "features = dataframe.columns\n",
        "features = features[:14]\n",
        "class_names = list(set(dataframe.iloc[:,14]))"
      ],
      "execution_count": 102,
      "outputs": []
    },
    {
      "cell_type": "code",
      "metadata": {
        "id": "V4tlWgGJmTL0"
      },
      "source": [
        "fn = ['H', 'diameter', 'albedo', 'e', 'a', 'q', 'i', 'om', 'w', 'ma', 'ad',\n",
        "       'n', 'per', 'moid_ld']\n",
        "cn = ['APO',\n",
        " 'AST',\n",
        " 'OMB',\n",
        " 'ATE',\n",
        " 'TNO',\n",
        " 'IEO',\n",
        " 'HYA',\n",
        " 'TJN',\n",
        " 'MCA',\n",
        " 'CEN',\n",
        " 'AMO',\n",
        " 'IMB',\n",
        " 'MBA']"
      ],
      "execution_count": 103,
      "outputs": []
    },
    {
      "cell_type": "code",
      "metadata": {
        "id": "ttf4jkU0dV1_"
      },
      "source": [
        "from sklearn.tree import export_graphviz\n",
        "from graphviz import Source\n",
        "export_graphviz(tree_clf,\n",
        "                out_file='tree.dot',\n",
        "                feature_names=features,\n",
        "                class_names=class_names,\n",
        "                rounded=True,\n",
        "                filled=True)"
      ],
      "execution_count": 108,
      "outputs": []
    },
    {
      "cell_type": "code",
      "metadata": {
        "colab": {
          "base_uri": "https://localhost:8080/"
        },
        "id": "mz4i35fKiMwi",
        "outputId": "71fe5599-cda3-45b1-8878-48b060833312"
      },
      "source": [
        "list(set(dataframe.iloc[:,14]))"
      ],
      "execution_count": null,
      "outputs": [
        {
          "output_type": "execute_result",
          "data": {
            "text/plain": [
              "['APO',\n",
              " 'AST',\n",
              " 'OMB',\n",
              " 'ATE',\n",
              " 'TNO',\n",
              " 'IEO',\n",
              " 'HYA',\n",
              " 'TJN',\n",
              " 'MCA',\n",
              " 'CEN',\n",
              " 'AMO',\n",
              " 'IMB',\n",
              " 'MBA']"
            ]
          },
          "metadata": {
            "tags": []
          },
          "execution_count": 83
        }
      ]
    },
    {
      "cell_type": "code",
      "metadata": {
        "colab": {
          "base_uri": "https://localhost:8080/",
          "height": 397
        },
        "id": "ls4BtXm9mKLp",
        "outputId": "bfa4f663-6ce4-4e90-e4fd-02bfa633e0d5"
      },
      "source": [
        "from sklearn import tree\n",
        "tree.plot_tree(tree_clf)"
      ],
      "execution_count": 107,
      "outputs": [
        {
          "output_type": "execute_result",
          "data": {
            "text/plain": [
              "[Text(167.4, 181.2, 'X[11] <= 0.172\\ngini = 0.201\\nsamples = 958524\\nvalue = [8457, 12687, 76, 1729, 506, 4, 22, 20360, 855954\\n18685, 28355, 8221, 3468]'),\n",
              " Text(83.7, 108.72, 'X[11] <= 0.1\\ngini = 0.469\\nsamples = 40784\\nvalue = [105, 50, 76, 0, 506, 3, 0, 0, 0, 0, 28355, 8221\\n3468]'),\n",
              " Text(41.85, 36.23999999999998, 'gini = 0.471\\nsamples = 12286\\nvalue = [8, 4, 76, 0, 506, 3, 0, 0, 0, 0, 0, 8221, 3468]'),\n",
              " Text(125.55000000000001, 36.23999999999998, 'gini = 0.01\\nsamples = 28498\\nvalue = [97, 46, 0, 0, 0, 0, 0, 0, 0, 0, 28355, 0, 0]'),\n",
              " Text(251.10000000000002, 108.72, 'X[5] <= 1.666\\ngini = 0.129\\nsamples = 917740\\nvalue = [8352, 12637, 0, 1729, 0, 1, 22, 20360, 855954, 18685\\n0, 0, 0]'),\n",
              " Text(209.25, 36.23999999999998, 'gini = 0.661\\nsamples = 41426\\nvalue = [8352, 12637, 0, 1729, 0, 1, 22, 0, 0, 18685, 0\\n0, 0]'),\n",
              " Text(292.95, 36.23999999999998, 'gini = 0.045\\nsamples = 876314\\nvalue = [0, 0, 0, 0, 0, 0, 0, 20360, 855954, 0, 0, 0, 0]')]"
            ]
          },
          "metadata": {
            "tags": []
          },
          "execution_count": 107
        },
        {
          "output_type": "display_data",
          "data": {
            "image/png": "[encoded data removed]",
            "text/plain": [
              "<Figure size 432x288 with 1 Axes>"
            ]
          },
          "metadata": {
            "tags": []
          }
        }
      ]
    },
    {
      "cell_type": "code",
      "metadata": {
        "id": "G5Z3Pk2roKlZ",
        "colab": {
          "base_uri": "https://localhost:8080/"
        },
        "outputId": "831eecdf-1330-4cd6-9f88-e3c54661d3f0"
      },
      "source": [
        "from subprocess import call\n",
        "call(['dot', '-Tpng', 'tree.dot', '-o', 'tree.png'])"
      ],
      "execution_count": 109,
      "outputs": [
        {
          "output_type": "execute_result",
          "data": {
            "text/plain": [
              "0"
            ]
          },
          "metadata": {
            "tags": []
          },
          "execution_count": 109
        }
      ]
    },
    {
      "cell_type": "code",
      "metadata": {
        "colab": {
          "base_uri": "https://localhost:8080/",
          "height": 321
        },
        "id": "Tla62Ng7tMlW",
        "outputId": "fa6d1d65-e1b4-4d4b-ee22-bb6aba6de743"
      },
      "source": [
        "from IPython.display import Image\n",
        "Image(filename='tree.png')"
      ],
      "execution_count": 110,
      "outputs": [
        {
          "output_type": "execute_result",
          "data": {
            "image/png": "[encoded data removed]",
            "text/plain": [
              "<IPython.core.display.Image object>"
            ]
          },
          "metadata": {
            "tags": []
          },
          "execution_count": 110
        }
      ]
    },
    {
      "cell_type": "code",
      "metadata": {
        "id": "cpmYw3G0ta9G"
      },
      "source": [
        ""
      ],
      "execution_count": null,
      "outputs": []
    }
  ]
}